{
 "cells": [
  {
   "cell_type": "code",
   "execution_count": 1,
   "id": "abstract-memory",
   "metadata": {},
   "outputs": [],
   "source": [
    "import numpy as np\n",
    "import pandas as pd\n",
    "import matplotlib.pyplot as plt\n",
    "import seaborn as sns\n",
    "import warnings\n",
    "\n",
    "from sklearn.ensemble import RandomForestRegressor, GradientBoostingRegressor\n",
    "from sklearn.kernel_ridge import KernelRidge\n",
    "from sklearn.linear_model import Ridge, RidgeCV\n",
    "from sklearn.linear_model import Lasso, LassoCV\n",
    "from sklearn.linear_model import ElasticNet, ElasticNetCV\n",
    "from sklearn.neighbors import KNeighborsRegressor\n",
    "from sklearn.svm import SVR\n",
    "from mlxtend.regressor import StackingCVRegressor\n",
    "import lightgbm as lgb\n",
    "from lightgbm import LGBMRegressor\n",
    "from xgboost import XGBRegressor\n",
    "\n",
    "from scipy.stats import skew, norm\n",
    "\n",
    "from sklearn.model_selection import GridSearchCV\n",
    "from sklearn.model_selection import KFold, cross_val_score\n",
    "from sklearn.metrics import mean_squared_error\n",
    "from sklearn.preprocessing import OneHotEncoder\n",
    "from sklearn.preprocessing import LabelEncoder\n",
    "from sklearn.pipeline import make_pipeline\n",
    "from sklearn.preprocessing import scale\n",
    "from sklearn.preprocessing import StandardScaler\n",
    "from sklearn.preprocessing import RobustScaler\n",
    "\n",
    "%matplotlib inline\n",
    "warnings.filterwarnings(\"ignore\")"
   ]
  },
  {
   "cell_type": "code",
   "execution_count": 2,
   "id": "determined-clinton",
   "metadata": {},
   "outputs": [],
   "source": [
    "dtrain = pd.read_csv('C:\\\\Users\\\\user\\\\Desktop\\\\Jupyter\\\\CUAI\\\\3월_IMC\\\\Adv_IMC_train.csv')\n",
    "dtest = pd.read_csv('C:\\\\Users\\\\user\\\\Desktop\\\\Jupyter\\\\CUAI\\\\3월_IMC\\\\Adv_IMC_test.csv')"
   ]
  },
  {
   "cell_type": "markdown",
   "id": "imported-principal",
   "metadata": {},
   "source": [
    "# Let's take a look into the Data"
   ]
  },
  {
   "cell_type": "code",
   "execution_count": 3,
   "id": "comparable-aging",
   "metadata": {},
   "outputs": [
    {
     "data": {
      "text/html": [
       "<div>\n",
       "<style scoped>\n",
       "    .dataframe tbody tr th:only-of-type {\n",
       "        vertical-align: middle;\n",
       "    }\n",
       "\n",
       "    .dataframe tbody tr th {\n",
       "        vertical-align: top;\n",
       "    }\n",
       "\n",
       "    .dataframe thead th {\n",
       "        text-align: right;\n",
       "    }\n",
       "</style>\n",
       "<table border=\"1\" class=\"dataframe\">\n",
       "  <thead>\n",
       "    <tr style=\"text-align: right;\">\n",
       "      <th></th>\n",
       "      <th>Company</th>\n",
       "      <th>Product</th>\n",
       "      <th>TypeName</th>\n",
       "      <th>Inches</th>\n",
       "      <th>ScreenResolution</th>\n",
       "      <th>Cpu</th>\n",
       "      <th>Ram</th>\n",
       "      <th>Memory</th>\n",
       "      <th>Gpu</th>\n",
       "      <th>OpSys</th>\n",
       "      <th>Weight</th>\n",
       "      <th>price</th>\n",
       "    </tr>\n",
       "  </thead>\n",
       "  <tbody>\n",
       "    <tr>\n",
       "      <th>0</th>\n",
       "      <td>HP</td>\n",
       "      <td>250 G6</td>\n",
       "      <td>Notebook</td>\n",
       "      <td>15.6</td>\n",
       "      <td>1366x768</td>\n",
       "      <td>Intel Core i5 7200U 2.5GHz</td>\n",
       "      <td>4GB</td>\n",
       "      <td>500GB HDD</td>\n",
       "      <td>Intel HD Graphics 620</td>\n",
       "      <td>No OS</td>\n",
       "      <td>1.86kg</td>\n",
       "      <td>393.9</td>\n",
       "    </tr>\n",
       "    <tr>\n",
       "      <th>1</th>\n",
       "      <td>Asus</td>\n",
       "      <td>X541NA (N3350/4GB/1TB/FHD/W10)</td>\n",
       "      <td>Notebook</td>\n",
       "      <td>NaN</td>\n",
       "      <td>Full HD 1920x1080</td>\n",
       "      <td>Intel Celeron Dual Core N3350 1.1GHz</td>\n",
       "      <td>4GB</td>\n",
       "      <td>1TB HDD</td>\n",
       "      <td>Intel HD Graphics 500</td>\n",
       "      <td>Windows 10</td>\n",
       "      <td>2kg</td>\n",
       "      <td>344.0</td>\n",
       "    </tr>\n",
       "    <tr>\n",
       "      <th>2</th>\n",
       "      <td>HP</td>\n",
       "      <td>15-AC110nv (i7-6500U/6GB/1TB/Radeon</td>\n",
       "      <td>Notebook</td>\n",
       "      <td>15.6</td>\n",
       "      <td>1366x768</td>\n",
       "      <td>Intel Core i7 6500U 2.5GHz</td>\n",
       "      <td>6GB</td>\n",
       "      <td>1TB HDD</td>\n",
       "      <td>AMD Radeon R5 M330</td>\n",
       "      <td>Windows 10</td>\n",
       "      <td>2.19kg</td>\n",
       "      <td>764.0</td>\n",
       "    </tr>\n",
       "    <tr>\n",
       "      <th>3</th>\n",
       "      <td>Dell</td>\n",
       "      <td>Inspiron 7559</td>\n",
       "      <td>Gaming</td>\n",
       "      <td>15.6</td>\n",
       "      <td>IPS Panel Touchscreen / 4K Ultra HD 3840x2160</td>\n",
       "      <td>Intel Core i7 6700HQ 2.6GHz</td>\n",
       "      <td>16GB</td>\n",
       "      <td>128GB SSD +  1TB HDD</td>\n",
       "      <td>Nvidia GeForce GTX 960M</td>\n",
       "      <td>Windows 10</td>\n",
       "      <td>2.72kg</td>\n",
       "      <td>1099.0</td>\n",
       "    </tr>\n",
       "    <tr>\n",
       "      <th>4</th>\n",
       "      <td>Razer</td>\n",
       "      <td>Blade Stealth</td>\n",
       "      <td>Ultrabook</td>\n",
       "      <td>12.5</td>\n",
       "      <td>IPS Panel 4K Ultra HD / Touchscreen 3840x2160</td>\n",
       "      <td>Intel Core i7 7500U 2.5GHz</td>\n",
       "      <td>16GB</td>\n",
       "      <td>512GB SSD</td>\n",
       "      <td>Intel HD Graphics 620</td>\n",
       "      <td>Windows 10</td>\n",
       "      <td>1.29kg</td>\n",
       "      <td>1799.0</td>\n",
       "    </tr>\n",
       "  </tbody>\n",
       "</table>\n",
       "</div>"
      ],
      "text/plain": [
       "  Company                              Product   TypeName  Inches  \\\n",
       "0      HP                               250 G6   Notebook    15.6   \n",
       "1    Asus       X541NA (N3350/4GB/1TB/FHD/W10)   Notebook     NaN   \n",
       "2      HP  15-AC110nv (i7-6500U/6GB/1TB/Radeon   Notebook    15.6   \n",
       "3    Dell                        Inspiron 7559     Gaming    15.6   \n",
       "4   Razer                        Blade Stealth  Ultrabook    12.5   \n",
       "\n",
       "                                ScreenResolution  \\\n",
       "0                                       1366x768   \n",
       "1                              Full HD 1920x1080   \n",
       "2                                       1366x768   \n",
       "3  IPS Panel Touchscreen / 4K Ultra HD 3840x2160   \n",
       "4  IPS Panel 4K Ultra HD / Touchscreen 3840x2160   \n",
       "\n",
       "                                    Cpu   Ram                Memory  \\\n",
       "0            Intel Core i5 7200U 2.5GHz   4GB             500GB HDD   \n",
       "1  Intel Celeron Dual Core N3350 1.1GHz   4GB               1TB HDD   \n",
       "2            Intel Core i7 6500U 2.5GHz   6GB               1TB HDD   \n",
       "3           Intel Core i7 6700HQ 2.6GHz  16GB  128GB SSD +  1TB HDD   \n",
       "4            Intel Core i7 7500U 2.5GHz  16GB             512GB SSD   \n",
       "\n",
       "                       Gpu       OpSys  Weight   price  \n",
       "0    Intel HD Graphics 620       No OS  1.86kg   393.9  \n",
       "1    Intel HD Graphics 500  Windows 10     2kg   344.0  \n",
       "2       AMD Radeon R5 M330  Windows 10  2.19kg   764.0  \n",
       "3  Nvidia GeForce GTX 960M  Windows 10  2.72kg  1099.0  \n",
       "4    Intel HD Graphics 620  Windows 10  1.29kg  1799.0  "
      ]
     },
     "execution_count": 3,
     "metadata": {},
     "output_type": "execute_result"
    }
   ],
   "source": [
    "dtrain.head()"
   ]
  },
  {
   "cell_type": "markdown",
   "id": "speaking-alberta",
   "metadata": {},
   "source": [
    "### TypeName\n",
    "We can see 'TypeName' has the same values in the train and test data"
   ]
  },
  {
   "cell_type": "code",
   "execution_count": 4,
   "id": "boolean-nursery",
   "metadata": {},
   "outputs": [
    {
     "name": "stdout",
     "output_type": "stream",
     "text": [
      "['Notebook', 'Gaming', 'Ultrabook', '2 in 1 Convertible', 'Netbook', 'Workstation']\n",
      "['Notebook', 'Ultrabook', '2 in 1 Convertible', 'Gaming', 'Workstation', 'Netbook']\n"
     ]
    }
   ],
   "source": [
    "print(dtrain['TypeName'].unique().tolist())\n",
    "print(dtest['TypeName'].unique().tolist())"
   ]
  },
  {
   "cell_type": "markdown",
   "id": "chronic-camping",
   "metadata": {},
   "source": [
    "### Inches\n",
    "We can use the 'Inches' feature by deleting the NaN values and changing the rest into floats."
   ]
  },
  {
   "cell_type": "markdown",
   "id": "boring-baseball",
   "metadata": {},
   "source": [
    "### ScreenResolution\n",
    "In the 'ScreenResolution' column we can see that every value has a (number)x(number) at the end so he can take this value and store it in another column. Also we can find that there are a few words that repeatedly shows up in the values.\n",
    "\n",
    "For example) 'Full HD', 'Touchscreen', 'Quad HD+' etc.\n",
    "I believe that these words have meaning when it comes to predicting the prices of the laptops so we will process them into individual columns as well."
   ]
  },
  {
   "cell_type": "code",
   "execution_count": 5,
   "id": "liked-picture",
   "metadata": {},
   "outputs": [
    {
     "data": {
      "text/plain": [
       "['1366x768',\n",
       " 'Full HD 1920x1080',\n",
       " 'IPS Panel Touchscreen / 4K Ultra HD 3840x2160',\n",
       " 'IPS Panel 4K Ultra HD / Touchscreen 3840x2160',\n",
       " 'Touchscreen 2400x1600',\n",
       " 'IPS Panel Full HD 1920x1080',\n",
       " 'Full HD / Touchscreen 1920x1080',\n",
       " 'IPS Panel Retina Display 2304x1440',\n",
       " 'IPS Panel Quad HD+ / Touchscreen 3200x1800',\n",
       " 'Touchscreen 1366x768',\n",
       " 'IPS Panel Full HD / Touchscreen 1920x1080',\n",
       " '1600x900',\n",
       " 'IPS Panel Quad HD+ 2560x1440',\n",
       " '2560x1440',\n",
       " '4K Ultra HD 3840x2160',\n",
       " 'IPS Panel Full HD 1366x768',\n",
       " 'Touchscreen 2256x1504',\n",
       " 'Touchscreen 2560x1440',\n",
       " 'IPS Panel 4K Ultra HD 3840x2160',\n",
       " 'IPS Panel Retina Display 2880x1800',\n",
       " 'Quad HD+ / Touchscreen 3200x1800',\n",
       " 'IPS Panel 1366x768',\n",
       " 'IPS Panel 2560x1440',\n",
       " 'IPS Panel Retina Display 2560x1600',\n",
       " 'IPS Panel Touchscreen 1920x1200',\n",
       " 'Touchscreen / Quad HD+ 3200x1800',\n",
       " '1440x900',\n",
       " '4K Ultra HD / Touchscreen 3840x2160',\n",
       " 'Touchscreen / 4K Ultra HD 3840x2160',\n",
       " 'IPS Panel Retina Display 2736x1824',\n",
       " 'Touchscreen / Full HD 1920x1080',\n",
       " 'IPS Panel Full HD 2160x1440',\n",
       " 'IPS Panel Touchscreen 2560x1440',\n",
       " 'IPS Panel Touchscreen 1366x768',\n",
       " 'Quad HD+ 3200x1800',\n",
       " '1920x1080',\n",
       " 'IPS Panel Touchscreen 2400x1600',\n",
       " 'IPS Panel Quad HD+ 3200x1800']"
      ]
     },
     "execution_count": 5,
     "metadata": {},
     "output_type": "execute_result"
    }
   ],
   "source": [
    "dtrain['ScreenResolution'].unique().tolist()"
   ]
  },
  {
   "cell_type": "markdown",
   "id": "identified-soldier",
   "metadata": {},
   "source": [
    "### Cpu\n",
    "We can see that the Cpu feature contains Intel and AMD Cpu's. Which we will have to convert into individual features"
   ]
  },
  {
   "cell_type": "code",
   "execution_count": 6,
   "id": "exceptional-travel",
   "metadata": {},
   "outputs": [
    {
     "data": {
      "text/plain": [
       "['Intel Core i5 7200U 2.5GHz',\n",
       " 'Intel Celeron Dual Core N3350 1.1GHz',\n",
       " 'Intel Core i7 6500U 2.5GHz',\n",
       " 'Intel Core i7 6700HQ 2.6GHz',\n",
       " 'Intel Core i7 7500U 2.5GHz',\n",
       " 'Intel Core i5 7300U 2.6GHz',\n",
       " 'Intel Core i5 7Y57 1.2GHz',\n",
       " 'Intel Core i7 8550U 1.8GHz',\n",
       " 'Intel Core i7 7700HQ 2.8GHz',\n",
       " 'Intel Core i7 6820HK 2.7GHz',\n",
       " 'Intel Core i5 6200U 2.3GHz',\n",
       " 'Intel Core M 1.2GHz',\n",
       " 'Intel Core i7 7500U 2.7GHz',\n",
       " 'Intel Core i3 7100U 2.4GHz',\n",
       " 'Intel Celeron Dual Core N3060 1.6GHz',\n",
       " 'AMD Ryzen 1600 3.2GHz',\n",
       " 'Intel Core i3 6006U 2GHz',\n",
       " 'AMD A4-Series 7210 2.2GHz',\n",
       " 'Intel Core i7 7820HQ 2.9GHz',\n",
       " 'Intel Core i5 8250U 1.6GHz',\n",
       " 'Intel Celeron Quad Core N3450 1.1GHz',\n",
       " 'Intel Celeron Dual Core 3205U 1.5GHz',\n",
       " 'Intel Core i5 1.6GHz',\n",
       " 'Intel Core i7 6500U 2.50GHz',\n",
       " 'Intel Core i5 7300HQ 2.5GHz',\n",
       " 'Intel Celeron Dual Core N3050 1.6GHz',\n",
       " 'Intel Atom X5-Z8350 1.44GHz',\n",
       " 'AMD A6-Series 9220 2.5GHz',\n",
       " 'Intel Atom x5-Z8350 1.44GHz',\n",
       " 'Intel Core M 6Y75 1.2GHz',\n",
       " 'Intel Core i7 7600U 2.8GHz',\n",
       " 'Intel Core i7 7660U 2.5GHz',\n",
       " 'AMD A10-Series A10-9620P 2.5GHz',\n",
       " 'Intel Core i3 6006U 2.0GHz',\n",
       " 'Intel Core M M7-6Y75 1.2GHz',\n",
       " 'Intel Core M 6Y30 0.9GHz',\n",
       " 'Intel Atom x5-Z8300 1.44GHz',\n",
       " 'AMD E-Series 7110 1.8GHz',\n",
       " 'Intel Core i3 6100U 2.1GHz',\n",
       " 'Intel Core i7 2.7GHz',\n",
       " 'Intel Core i7 7560U 2.4GHz',\n",
       " 'AMD A9-Series A9-9420 3GHz',\n",
       " 'Intel Core i7 6820HQ 2.7GHz',\n",
       " 'Intel Core i3 6100U 2.3GHz',\n",
       " 'Intel Pentium Quad Core N3710 1.6GHz',\n",
       " 'AMD A9-Series 9420 3GHz',\n",
       " 'Intel Core i7 7820HK 2.9GHz',\n",
       " 'Intel Core i7 7Y75 1.3GHz',\n",
       " 'Intel Celeron Dual Core N3350 2GHz',\n",
       " 'Intel Core i7 2.8GHz',\n",
       " 'Intel Celeron Quad Core N3710 1.6GHz',\n",
       " 'Intel Core i5 6300U 2.4GHz',\n",
       " 'Intel Core i7 6600U 2.6GHz',\n",
       " 'Intel Core i7 2.2GHz',\n",
       " 'AMD A10-Series 9620P 2.5GHz',\n",
       " 'AMD A6-Series A6-9220 2.5GHz',\n",
       " 'AMD Ryzen 1700 3GHz',\n",
       " 'AMD FX 8800P 2.1GHz',\n",
       " 'Intel Core i3 7130U 2.7GHz',\n",
       " 'Intel Core i5 2.0GHz',\n",
       " 'Intel Pentium Quad Core N4200 1.1GHz',\n",
       " 'Intel Atom x5-Z8550 1.44GHz',\n",
       " 'Intel Xeon E3-1505M V6 3GHz',\n",
       " 'Intel Core M 1.1GHz',\n",
       " 'Intel Core i5 7440HQ 2.8GHz',\n",
       " 'Intel Celeron Quad Core N3160 1.6GHz',\n",
       " 'AMD A8-Series 7410 2.2GHz',\n",
       " 'Intel Core i5 3.1GHz',\n",
       " 'Intel Core M m3-7Y30 2.2GHz',\n",
       " 'Intel Core i7 6920HQ 2.9GHz',\n",
       " 'Intel Core i5 1.8GHz',\n",
       " 'AMD A12-Series 9720P 3.6GHz',\n",
       " 'Intel Core i7 8650U 1.9GHz',\n",
       " 'Intel Core i5 2.3GHz',\n",
       " 'AMD A6-Series 9220 2.9GHz',\n",
       " 'AMD FX 9830P 3GHz',\n",
       " 'AMD A6-Series 7310 2GHz',\n",
       " 'Intel Core i5 7200U 2.50GHz',\n",
       " 'AMD A10-Series 9600P 2.4GHz',\n",
       " 'Intel Core i7 7700HQ 2.7GHz',\n",
       " 'Intel Celeron Dual Core 3855U 1.6GHz',\n",
       " 'Intel Core i3 6006U 2.2GHz',\n",
       " 'AMD A12-Series 9720P 2.7GHz',\n",
       " 'Intel Core i7 6560U 2.2GHz',\n",
       " 'AMD E-Series E2-9000e 1.5GHz',\n",
       " 'AMD E-Series 9000 2.2GHz',\n",
       " 'Intel Core M m7-6Y75 1.2GHz',\n",
       " 'Intel Core i5 7Y54 1.2GHz',\n",
       " 'Intel Core M M3-6Y30 0.9GHz',\n",
       " 'Intel Core M 6Y54 1.1GHz',\n",
       " 'Intel Core i5 7500U 2.7GHz',\n",
       " 'Intel Core i7 2.9GHz',\n",
       " 'AMD E-Series 6110 1.5GHz',\n",
       " 'AMD A9-Series 9410 2.9GHz',\n",
       " 'Intel Xeon E3-1535M v5 2.9GHz',\n",
       " 'Intel Pentium Quad Core N3700 1.6GHz',\n",
       " 'Samsung Cortex A72&A53 2.0GHz',\n",
       " 'Intel Pentium Dual Core N4200 1.1GHz',\n",
       " 'Intel Core M 7Y30 1.0GHz',\n",
       " 'Intel Core M m3 1.2GHz',\n",
       " 'Intel Core i5 6300HQ 2.3GHz',\n",
       " 'Intel Core i5 6440HQ 2.6GHz',\n",
       " 'Intel Core i5 7200U 2.70GHz']"
      ]
     },
     "execution_count": 6,
     "metadata": {},
     "output_type": "execute_result"
    }
   ],
   "source": [
    "dtrain['Cpu'].unique().tolist()"
   ]
  },
  {
   "cell_type": "markdown",
   "id": "danish-absolute",
   "metadata": {},
   "source": [
    "### Ram\n",
    "Ram can easily be processed by just deleting the 'GB'"
   ]
  },
  {
   "cell_type": "code",
   "execution_count": 7,
   "id": "smart-purse",
   "metadata": {},
   "outputs": [
    {
     "data": {
      "text/plain": [
       "['4GB', '6GB', '16GB', '8GB', '64GB', '12GB', '32GB', '2GB', '24GB']"
      ]
     },
     "execution_count": 7,
     "metadata": {},
     "output_type": "execute_result"
    }
   ],
   "source": [
    "dtrain['Ram'].unique().tolist()"
   ]
  },
  {
   "cell_type": "markdown",
   "id": "moral-ending",
   "metadata": {},
   "source": [
    "### Memory\n",
    "We can do the same stuff we did with the ScreenResolution column to the Memory column but just a little differently."
   ]
  },
  {
   "cell_type": "code",
   "execution_count": 8,
   "id": "inner-giving",
   "metadata": {},
   "outputs": [
    {
     "data": {
      "text/plain": [
       "['500GB HDD',\n",
       " '1TB HDD',\n",
       " '128GB SSD +  1TB HDD',\n",
       " '512GB SSD',\n",
       " '256GB SSD',\n",
       " '512GB SSD +  1TB HDD',\n",
       " '1TB SSD',\n",
       " '128GB SSD',\n",
       " '256GB SSD +  1TB HDD',\n",
       " '512GB Flash Storage',\n",
       " '128GB HDD',\n",
       " '180GB SSD',\n",
       " '256GB SSD +  1.0TB Hybrid',\n",
       " '2TB HDD',\n",
       " '32GB Flash Storage',\n",
       " '16GB SSD',\n",
       " '256GB Flash Storage',\n",
       " '512GB SSD +  512GB SSD',\n",
       " '128GB SSD +  2TB HDD',\n",
       " '16GB Flash Storage',\n",
       " '256GB SSD +  2TB HDD',\n",
       " '1TB SSD +  1TB HDD',\n",
       " '1.0TB Hybrid',\n",
       " '64GB Flash Storage',\n",
       " '128GB Flash Storage',\n",
       " '32GB SSD',\n",
       " '512GB SSD +  2TB HDD',\n",
       " '8GB SSD',\n",
       " '1.0TB HDD',\n",
       " '256GB SSD +  500GB HDD',\n",
       " '512GB SSD +  256GB SSD',\n",
       " '256GB SSD +  256GB SSD',\n",
       " '240GB SSD',\n",
       " '508GB Hybrid',\n",
       " '1TB HDD +  1TB HDD',\n",
       " '64GB SSD']"
      ]
     },
     "execution_count": 8,
     "metadata": {},
     "output_type": "execute_result"
    }
   ],
   "source": [
    "dtrain['Memory'].unique().tolist()"
   ]
  },
  {
   "cell_type": "markdown",
   "id": "innocent-dance",
   "metadata": {},
   "source": [
    "### Gpu\n",
    "basically the same thing as the Cpu"
   ]
  },
  {
   "cell_type": "code",
   "execution_count": 9,
   "id": "julian-mortality",
   "metadata": {},
   "outputs": [
    {
     "data": {
      "text/plain": [
       "['Intel HD Graphics 620',\n",
       " 'Intel HD Graphics 500',\n",
       " 'AMD Radeon R5 M330',\n",
       " 'Nvidia GeForce GTX 960M',\n",
       " 'Intel HD Graphics 615',\n",
       " 'Intel UHD Graphics 620',\n",
       " 'Nvidia GeForce GTX 1070',\n",
       " 'Nvidia GeForce GTX 980 ',\n",
       " 'Intel HD Graphics 520',\n",
       " 'AMD Radeon R5 M315',\n",
       " 'Intel HD Graphics 515',\n",
       " 'Nvidia GeForce GTX 1060',\n",
       " 'AMD Radeon R5 M420',\n",
       " 'AMD Radeon R5 M430',\n",
       " 'Nvidia GeForce GTX 980M',\n",
       " 'Intel HD Graphics 400',\n",
       " 'AMD Radeon RX 580',\n",
       " 'AMD Radeon R7 M445',\n",
       " 'AMD Radeon R3',\n",
       " 'Nvidia Quadro M2200M',\n",
       " 'AMD R17M-M1-70',\n",
       " 'Nvidia GeForce 930MX',\n",
       " 'Nvidia GeForce GTX 970M',\n",
       " 'Nvidia Quadro M520M',\n",
       " 'Intel HD Graphics',\n",
       " 'Intel HD Graphics 6000',\n",
       " 'Nvidia GeForce 920MX',\n",
       " 'Nvidia GeForce 940MX',\n",
       " 'Nvidia GeForce GTX 1050',\n",
       " 'Nvidia Quadro M1200',\n",
       " 'Intel HD Graphics 620 ',\n",
       " 'AMD R4 Graphics',\n",
       " 'AMD Radeon 520',\n",
       " 'AMD Radeon 530',\n",
       " 'Nvidia GeForce GTX 1050 Ti',\n",
       " 'AMD Radeon RX 550',\n",
       " 'Nvidia GeForce 930M',\n",
       " 'Intel Iris Plus Graphics 640',\n",
       " 'Nvidia GeForce 930MX ',\n",
       " 'Nvidia GeForce GTX 950M',\n",
       " 'AMD Radeon R2 Graphics',\n",
       " 'AMD Radeon Pro 455',\n",
       " 'Nvidia Quadro M620',\n",
       " 'Intel HD Graphics 405',\n",
       " 'AMD Radeon R5',\n",
       " 'Nvidia GeForce 920MX ',\n",
       " 'AMD Radeon Pro 555',\n",
       " 'Nvidia GeForce 920M',\n",
       " 'Nvidia GeForce MX150',\n",
       " 'Nvidia GeForce GTX 940MX',\n",
       " 'Intel Iris Pro Graphics',\n",
       " 'Nvidia GeForce GT 940MX',\n",
       " 'AMD Radeon RX 540',\n",
       " 'AMD Radeon R4 Graphics',\n",
       " 'AMD Radeon R9 M385',\n",
       " 'Intel Iris Graphics 540',\n",
       " 'Nvidia GeForce GTX1050 Ti',\n",
       " 'Nvidia Quadro M2200',\n",
       " 'Intel HD Graphics 5300',\n",
       " 'AMD Radeon R5 M420X',\n",
       " 'Nvidia Quadro M1000M',\n",
       " 'Nvidia GeForce GTX 960',\n",
       " 'Nvidia GeForce GTX 940M',\n",
       " 'Intel HD Graphics 505',\n",
       " 'Intel Iris Plus Graphics 650',\n",
       " 'Nvidia GeForce GTX 1050Ti',\n",
       " 'Nvidia GeForce GTX 1080',\n",
       " 'AMD Radeon R7 M440',\n",
       " 'Nvidia GTX 980 SLI',\n",
       " 'AMD Radeon 540',\n",
       " 'AMD Radeon R4',\n",
       " 'Nvidia Quadro M500M',\n",
       " 'Nvidia GeForce 920',\n",
       " 'Nvidia GeForce MX130',\n",
       " 'Nvidia GeForce GTX 1070M',\n",
       " 'AMD Radeon RX 560',\n",
       " 'Nvidia GeForce 150MX',\n",
       " 'AMD Radeon R7 M465',\n",
       " 'Intel HD Graphics 510',\n",
       " 'AMD Radeon R2',\n",
       " 'Nvidia GeForce GTX 960<U+039C>',\n",
       " 'Nvidia GeForce GTX 965M',\n",
       " 'Nvidia GeForce GTX1060',\n",
       " 'Nvidia GeForce GTX 1050M',\n",
       " 'AMD Radeon Pro 560',\n",
       " 'Nvidia GeForce GTX1080',\n",
       " 'AMD FirePro W4190M ',\n",
       " 'Nvidia Quadro M2000M',\n",
       " 'AMD Radeon R7 M460',\n",
       " 'Intel HD Graphics 630',\n",
       " 'Nvidia GeForce GTX 930MX',\n",
       " 'Nvidia Quadro M3000M',\n",
       " 'ARM Mali T860 MP4',\n",
       " 'Nvidia Quadro M620M',\n",
       " 'AMD Radeon R5 520',\n",
       " 'Nvidia Quadro 3000M',\n",
       " 'AMD FirePro W4190M',\n",
       " 'AMD Radeon R7',\n",
       " 'AMD FirePro W5130M',\n",
       " 'Intel Graphics 620',\n",
       " 'Nvidia GeForce 960M',\n",
       " 'Intel HD Graphics 530']"
      ]
     },
     "execution_count": 9,
     "metadata": {},
     "output_type": "execute_result"
    }
   ],
   "source": [
    "dtrain['Gpu'].unique().tolist()"
   ]
  },
  {
   "cell_type": "markdown",
   "id": "advised-heaven",
   "metadata": {},
   "source": [
    "### OpSys\n",
    "We can see that the values for the train data and the test data are different. So I got rid of the Android value because I considered it as noise(I also didn't want to waste a column just for the 'android' value) and dropped it. Then I put the Windows OS'/Mac OS' into 1 column with different integer values(ex: Windows7 = 1, Windows10 = 2 etc.)"
   ]
  },
  {
   "cell_type": "code",
   "execution_count": 10,
   "id": "auburn-saint",
   "metadata": {},
   "outputs": [
    {
     "data": {
      "text/plain": [
       "['No OS',\n",
       " 'Windows 10',\n",
       " 'Chrome OS',\n",
       " 'Windows 7',\n",
       " 'Mac OS X',\n",
       " 'Linux',\n",
       " 'Windows 10 S',\n",
       " 'macOS',\n",
       " 'Android']"
      ]
     },
     "execution_count": 10,
     "metadata": {},
     "output_type": "execute_result"
    }
   ],
   "source": [
    "dtrain.OpSys.unique().tolist()"
   ]
  },
  {
   "cell_type": "code",
   "execution_count": 11,
   "id": "supported-extreme",
   "metadata": {},
   "outputs": [
    {
     "data": {
      "text/plain": [
       "['Windows 10',\n",
       " 'No OS',\n",
       " 'Linux',\n",
       " 'Chrome OS',\n",
       " 'Windows 10 S',\n",
       " 'macOS',\n",
       " 'Windows 7']"
      ]
     },
     "execution_count": 11,
     "metadata": {},
     "output_type": "execute_result"
    }
   ],
   "source": [
    "dtest.OpSys.unique().tolist()"
   ]
  },
  {
   "cell_type": "markdown",
   "id": "deadly-symposium",
   "metadata": {},
   "source": [
    "### Weight\n",
    "The Weight column can also be used by just deleting the 'Kg' and then changing it into a float just like what we did with the 'Ram'"
   ]
  },
  {
   "cell_type": "code",
   "execution_count": 12,
   "id": "cultural-dairy",
   "metadata": {},
   "outputs": [
    {
     "data": {
      "text/plain": [
       "0    1.86kg\n",
       "1       2kg\n",
       "2    2.19kg\n",
       "3    2.72kg\n",
       "4    1.29kg\n",
       "Name: Weight, dtype: object"
      ]
     },
     "execution_count": 12,
     "metadata": {},
     "output_type": "execute_result"
    }
   ],
   "source": [
    "dtrain.Weight.head()"
   ]
  },
  {
   "cell_type": "markdown",
   "id": "cathedral-heath",
   "metadata": {},
   "source": [
    "# Drop noise\n",
    "row 889 - has Samsung Cortex for Cpu and ARM Mali for Gpu(which is not in the test set and has nothing in common with the other index's)\n",
    "\n",
    "row 16, 287, 314, 920, 956 = Intel Core M without further info / 889 has Samsung Cortex for Cpu and ARM Mali for Gpu(which is not in the test set and has nothing in common with the other index's)\n",
    "\n",
    "row 219 contains 'Intel Iris Pro Graphics' which doesn't contain any information about its serial number nor generation.\n",
    "\n",
    "row 268 & 712 contains 'Android' in OpSys which doesn't exist in the test set and there are only 2 rows containing 'Android' so I assumed the two rows as noise and dropped them"
   ]
  },
  {
   "cell_type": "code",
   "execution_count": 13,
   "id": "interpreted-working",
   "metadata": {},
   "outputs": [
    {
     "data": {
      "text/plain": [
       "(array([268, 712], dtype=int64), array([9, 9], dtype=int64))"
      ]
     },
     "execution_count": 13,
     "metadata": {},
     "output_type": "execute_result"
    }
   ],
   "source": [
    "np.where(dtrain.values == 'Android')"
   ]
  },
  {
   "cell_type": "code",
   "execution_count": 14,
   "id": "twelve-textbook",
   "metadata": {},
   "outputs": [],
   "source": [
    "#np.where(dtrain.values == 'Intel Iris Pro Graphics')\n",
    "#np.where(dtrain.values == 'Android')\n",
    "#dtrain.Gpu[219]\n",
    "#dtrain.OpSys[268]\n",
    "#dtrain.OpSys[712]\n",
    "dtrain.drop(dtrain.index[[16, 219, 268, 287, 314, 712, 889, 920, 956]], inplace=True)"
   ]
  },
  {
   "cell_type": "markdown",
   "id": "designing-daniel",
   "metadata": {},
   "source": [
    "# Drop duplicates"
   ]
  },
  {
   "cell_type": "code",
   "execution_count": 15,
   "id": "fitted-syracuse",
   "metadata": {},
   "outputs": [],
   "source": [
    "#dtrain.duplicated().sum()\n",
    "#dtrain.loc[dtrain.duplicated(keep='last'),:] # keep = first / last / False\n",
    "dtrain.drop_duplicates(keep='first', inplace=True)"
   ]
  },
  {
   "cell_type": "markdown",
   "id": "simple-camping",
   "metadata": {},
   "source": [
    "# Drop NaN in Inches"
   ]
  },
  {
   "cell_type": "code",
   "execution_count": 16,
   "id": "comparable-ticket",
   "metadata": {},
   "outputs": [],
   "source": [
    "dtrain = dtrain.dropna()"
   ]
  },
  {
   "cell_type": "markdown",
   "id": "addressed-amount",
   "metadata": {},
   "source": [
    "# Reset index"
   ]
  },
  {
   "cell_type": "code",
   "execution_count": 17,
   "id": "banned-tongue",
   "metadata": {},
   "outputs": [],
   "source": [
    "dtrain.reset_index(drop=True, inplace=True) # reset the index to 0~"
   ]
  },
  {
   "cell_type": "markdown",
   "id": "artificial-repeat",
   "metadata": {},
   "source": [
    "# Skewed Data"
   ]
  },
  {
   "cell_type": "code",
   "execution_count": 18,
   "id": "buried-string",
   "metadata": {},
   "outputs": [
    {
     "name": "stdout",
     "output_type": "stream",
     "text": [
      "Skewness: 1.282906\n",
      "Kurtosis: 2.516151\n"
     ]
    }
   ],
   "source": [
    "#skewness and kurtosis\n",
    "print(\"Skewness: %f\" % dtrain['price'].skew())\n",
    "print(\"Kurtosis: %f\" % dtrain['price'].kurt())"
   ]
  },
  {
   "cell_type": "code",
   "execution_count": 19,
   "id": "middle-japan",
   "metadata": {},
   "outputs": [
    {
     "name": "stdout",
     "output_type": "stream",
     "text": [
      "outer range (low) of the distribution:\n",
      "[[-1.38226695]\n",
      " [-1.35664461]\n",
      " [-1.3507758 ]\n",
      " [-1.34648155]\n",
      " [-1.34089903]\n",
      " [-1.33216739]\n",
      " [-1.32959085]\n",
      " [-1.31069616]\n",
      " [-1.30353908]\n",
      " [-1.30353908]]\n",
      "\n",
      "outer range (high) of the distribution:\n",
      "[[2.88335265]\n",
      " [3.09090797]\n",
      " [3.37719116]\n",
      " [3.50573232]\n",
      " [3.60679029]\n",
      " [3.93687481]\n",
      " [4.02190092]\n",
      " [4.05854517]\n",
      " [4.65115138]\n",
      " [6.24002312]]\n"
     ]
    }
   ],
   "source": [
    "from sklearn.preprocessing import StandardScaler\n",
    "#standardizing data\n",
    "\n",
    "price_scaled = StandardScaler().fit_transform(dtrain['price'][:,np.newaxis]);\n",
    "low_range = price_scaled[price_scaled[:,0].argsort()][:10]\n",
    "high_range= price_scaled[price_scaled[:,0].argsort()][-10:]\n",
    "\n",
    "print('outer range (low) of the distribution:')\n",
    "print(low_range)\n",
    "print('\\nouter range (high) of the distribution:')\n",
    "print(high_range)"
   ]
  },
  {
   "cell_type": "code",
   "execution_count": 20,
   "id": "golden-stationery",
   "metadata": {},
   "outputs": [],
   "source": [
    "dtrain['price'] = np.log1p(dtrain['price'])"
   ]
  },
  {
   "cell_type": "code",
   "execution_count": 21,
   "id": "explicit-swift",
   "metadata": {},
   "outputs": [
    {
     "data": {
      "text/plain": [
       "0      5.978633\n",
       "1      6.639876\n",
       "2      7.003065\n",
       "3      7.495542\n",
       "4      7.155186\n",
       "         ...   \n",
       "994    6.908755\n",
       "995    6.684612\n",
       "996    6.445720\n",
       "997    6.747187\n",
       "998    6.173786\n",
       "Name: price, Length: 999, dtype: float64"
      ]
     },
     "execution_count": 21,
     "metadata": {},
     "output_type": "execute_result"
    }
   ],
   "source": [
    "dtrain['price']"
   ]
  },
  {
   "cell_type": "markdown",
   "id": "soviet-cathedral",
   "metadata": {},
   "source": [
    "# Combine train and test features"
   ]
  },
  {
   "cell_type": "code",
   "execution_count": 22,
   "id": "velvet-board",
   "metadata": {},
   "outputs": [
    {
     "data": {
      "text/plain": [
       "(1260, 11)"
      ]
     },
     "execution_count": 22,
     "metadata": {},
     "output_type": "execute_result"
    }
   ],
   "source": [
    "train_labels = dtrain['price'].reset_index(drop=True)\n",
    "train = dtrain.drop(['price'], axis=1)\n",
    "test = dtest\n",
    "features = pd.concat([train, test]).reset_index(drop=True)\n",
    "features.shape"
   ]
  },
  {
   "cell_type": "markdown",
   "id": "expensive-heritage",
   "metadata": {},
   "source": [
    "# Preprocessing 'Cpu' Column"
   ]
  },
  {
   "cell_type": "code",
   "execution_count": 23,
   "id": "typical-chicken",
   "metadata": {},
   "outputs": [],
   "source": [
    "def CPU_transform(data):\n",
    "    \n",
    "    # Extract GHz from Cpu\n",
    "    data['Cpu'] = data[\"Cpu\"].str.replace(\" \", \"+\")\n",
    "    data['GHz'] = data[\"Cpu\"].str.replace(r\".+[+]\", \"\").str.replace(r\"GHz\", \"\").astype(float)\n",
    "    #-------------------------------------------------------------------------------------------\n",
    "    # Intel Xeon E3\n",
    "    data['Cpu_Xeon'] = data[\"Cpu\"].str.replace(r\"Intel[+]Xeon[+]E3[-]\", \"\").str.replace(r\"[+].+\", \"\").str.replace(r\"\\D\", \"\")\n",
    "    data['Cpu_Xeon'] = data['Cpu_Xeon'].replace(r'^\\s*$', np.nan, regex=True).fillna(0).astype(int)\n",
    "    \n",
    "    # Intel Core M - 가격 / 출시 날짜를 고려하여 인코딩\n",
    "    data['Cpu_CoreM'] = data[\"Cpu\"].str.replace(r\"Intel[+]Core[+]M[+]\", \"\").str.replace(r\"M\\d[-]\", \"\").str.replace(r\"6Y30\", \"1\").str.replace(r\"6Y54\", \"1\").str.replace(r\"6Y75\", \"2\").str.replace(r\"7Y30\", \"3\")\n",
    "    data['Cpu_CoreM'] = data[\"Cpu_CoreM\"].str.replace(r\"[+].+\", \"\").str.replace(r\"\\D\", \"\").replace(r'^\\s*$', np.nan, regex=True).fillna(0).astype(int)\n",
    "    \n",
    "    # Intel Pentium Dual / Quad Core\n",
    "    data['Cpu_Pentium2'] = data[\"Cpu\"].str.replace(r\"Intel[+]Pentium[+]Dual[+]Core[+]\", \"\").str.replace(r\"[+].+\", \"\").str.replace(r\"\\D\", \"\").replace(r'^\\s*$', np.nan, regex=True).fillna(0).astype(int)\n",
    "    data['Cpu_Pentium4'] = data[\"Cpu\"].str.replace(r\"Intel[+]Pentium[+]Quad[+]Core[+]\", \"\").str.replace(r\"[+].+\", \"\").str.replace(r\"\\D\", \"\").replace(r'^\\s*$', np.nan, regex=True).fillna(0).astype(int)\n",
    "\n",
    "    # Intel Atom\n",
    "    data['Cpu_Atom'] = data[\"Cpu\"].str.replace(r\"Intel[+]Atom[+]\\D\\d[-]\", \"\").str.replace(r\"[+].+\", \"\").str.replace(r\"\\D\", \"\").replace(r'^\\s*$', np.nan, regex=True).fillna(0).astype(int)\n",
    "\n",
    "    # Intel Celeron Dual / Quad Core\n",
    "    data['Cpu_Celeron2'] = data[\"Cpu\"].str.replace(r\"Intel[+]Celeron[+]Dual[+]Core[+]\", \"\").str.replace(r\"[+].+\", \"\").str.replace(r\"\\D\", \"\").replace(r'^\\s*$', np.nan, regex=True).fillna(0).astype(int)\n",
    "    data['Cpu_Celeron4'] = data[\"Cpu\"].str.replace(r\"Intel[+]Celeron[+]Quad[+]Core[+]\", \"\").str.replace(r\"[+].+\", \"\").str.replace(r\"\\D\", \"\").replace(r'^\\s*$', np.nan, regex=True).fillna(0).astype(int)\n",
    "\n",
    "    # Intel Core i-series\n",
    "    data['Cpu_i3'] = data[\"Cpu\"].str.replace(r\"Intel[+]Core[+]i3[+]\", \"\").str.replace(r\"[+].+\", \"\").str.replace(r\"\\D\", \"\").replace(r'^\\s*$', np.nan, regex=True).fillna(0).astype(int)\n",
    "    data['Cpu_i5'] = data[\"Cpu\"].str.replace(r\"Intel[+]Core[+]i5[+]\", \"\").str.replace(r\"[+].+\", \"\").str.replace(r\"\\D\", \"\").replace(r'^\\s*$', np.nan, regex=True).fillna(0).astype(int)\n",
    "    data['Cpu_i7'] = data[\"Cpu\"].str.replace(r\"Intel[+]Core[+]i7[+]\", \"\").str.replace(r\"[+].+\", \"\").str.replace(r\"\\D\", \"\").replace(r'^\\s*$', np.nan, regex=True).fillna(0).astype(int)\n",
    "\n",
    "    # AMD_A Series\n",
    "    data['Cpu_AMD_A'] = data[\"Cpu\"].str.replace(r\"AMD[+]A\", \"\").str.replace(r\"[-].+[+].+[-]\", \"\").str.replace(r\"[-]\\D+[+]\", \"\").str.replace(r\"[+].+\", \"\").str.replace(r\"\\D\", \"\").replace(r'^\\s*$', np.nan, regex=True).fillna(0).astype(int)\n",
    "\n",
    "    # AMD Ryzen\n",
    "    data['Cpu_AMD_Ryzen'] = data[\"Cpu\"].str.replace(r\"AMD[+]Ryzen[+]\", \"\").str.replace(r\"[+].+\", \"\").str.replace(r\"\\D\", \"\").replace(r'^\\s*$', np.nan, regex=True).fillna(0).astype(int)\n",
    "\n",
    "    # AMD FX\n",
    "    data['Cpu_AMD_FX'] = data[\"Cpu\"].str.replace(r\"AMD[+]FX[+]\", \"\").str.replace(r\"[+].+\", \"\").str.replace(r\"\\D\", \"\").replace(r'^\\s*$', np.nan, regex=True).fillna(0).astype(int)\n",
    "\n",
    "    # AMD E-Series\n",
    "    data['Cpu_AMD_E'] = data[\"Cpu\"].str.replace(r\"AMD[+]E[-]\\D+\", \"\").str.replace(r\".+[-]\", \"\").str.replace(r\"[+].+\", \"\").str.replace(r\"\\D\", \"\").replace(r'^\\s*$', np.nan, regex=True).fillna(0).astype(int)\n",
    "    \n",
    "    return data"
   ]
  },
  {
   "cell_type": "code",
   "execution_count": 24,
   "id": "chubby-remark",
   "metadata": {},
   "outputs": [],
   "source": [
    "features = CPU_transform(features)"
   ]
  },
  {
   "cell_type": "markdown",
   "id": "announced-university",
   "metadata": {},
   "source": [
    "# Preprocessing 'Gpu' Column"
   ]
  },
  {
   "cell_type": "code",
   "execution_count": 25,
   "id": "seven-frederick",
   "metadata": {},
   "outputs": [],
   "source": [
    "def GPU_transform(data):\n",
    "    \n",
    "    # AMD R17M-M1-70 is the same as AMD Radeon R7 M530\n",
    "    data['Gpu'] = data[\"Gpu\"].str.replace(\"AMD R17M-M1-70\", \"AMD Radeon R7 M530\")\n",
    "    data['Gpu'] = data[\"Gpu\"].str.replace(\" \", \"+\")\n",
    "    \n",
    "    # Intel HD Graphics\n",
    "    # 참고문헌 - https://en.wikipedia.org/wiki/List_of_Intel_graphics_processing_units\n",
    "    for a in data[(data['Gpu'] == 'Intel+HD+Graphics') & ((data['Cpu'] == 'Intel+Atom+x5-Z8350+1.44GHz') | (data['Cpu'] == 'Intel+Atom+X5-Z8350+1.44GHz') | (data['Cpu'] == 'Intel+Celeron+Dual+Core+N3060+1.6GHz'))].index:\n",
    "        data['Gpu'][a] = data['Gpu'][a].replace('Intel+HD+Graphics', 'Intel+HD+Graphics+400')\n",
    "    for b in data[(data['Gpu'] == 'Intel+HD+Graphics') & (data['Cpu'] == 'Intel+Pentium+Quad+Core+N3710+1.6GHz')].index:\n",
    "        data['Gpu'][b] = data['Gpu'][b].replace('Intel+HD+Graphics', 'Intel+HD+Graphics+405')\n",
    "    for c in data[(data['Gpu'] == 'Intel+HD+Graphics') & ((data['Cpu'] == 'Intel+Core+i5+7200U+2.5GHz') | (data['Cpu'] == 'Intel+Core+i7+7600U+2.8GHz'))].index:\n",
    "        data['Gpu'][c] = data['Gpu'][c].replace('Intel+HD+Graphics', 'Intel+HD+Graphics+620')\n",
    "    # 남아 있는 Intel HD Graphics들은 전부 8세대이므로 묶어줍니다.\n",
    "    data['Gpu_HDG_default'] = data[\"Gpu\"].str.replace(r\"Intel[+]HD[+]Graphics\", \"\").replace(r'^\\s*$', 1, regex=True).str.replace(r\"[+].+\", \"\").replace(np.nan, 1, regex=True).str.replace(r\"\\D\", \"\").replace(np.nan, 1, regex=True).replace(r'^\\s*$', np.nan, regex=True).fillna(0).astype(int)\n",
    "    data['Gpu_Intel_HD'] = data[\"Gpu\"].str.replace(r\"Intel[+]HD[+]Graphics[+]\", \"\").str.replace(r\"[+].+\", \"\").str.replace(r\"\\D\", \"\").replace(r'^\\s*$', np.nan, regex=True).fillna(0).astype(int)\n",
    "    \n",
    "    # Intel UHD Graphics\n",
    "    data['Gpu_Intel_UHD'] = data[\"Gpu\"].str.replace(r\"Intel[+]UHD[+]\\D+[+]\", \"\").str.replace(r\"[+].+\", \"\").str.replace(r\"\\D\", \"\").replace(r'^\\s*$', np.nan, regex=True).fillna(0).astype(int)\n",
    "    \n",
    "    # Intel Iris (default)/Plus\n",
    "    data['Gpu_Intel_Iris'] = data[\"Gpu\"].str.replace(r\"Intel[+]Iris[+]Plus[+]\\D+\", \"\").str.replace(r\"Intel[+]Iris[+]\\D+\", \"\").str.replace(r\"[+].+\", \"\").str.replace(r\"\\D\", \"\").replace(r'^\\s*$', np.nan, regex=True).fillna(0).astype(int)\n",
    "    \n",
    "    # Nvidia Geforce GTX_Ti\n",
    "    data['Gpu_Nvidia_GTX_Ti'] = data[\"Gpu\"].str.replace(r\"Nvidia[+]GeForce[+]GTX.+Ti\", \"1\").str.replace(r\"[+].+\", \"\").str.replace(r\"\\D\", \"\").replace(r'^\\s*$', np.nan, regex=True).fillna(0).astype(int)\n",
    "    \n",
    "    # Nvidia GeForce GTX_M\n",
    "    # Ti들을 미리 삭제\n",
    "    data['Gpu_Nvidia_GTX_M'] = data[\"Gpu\"].str.replace(r\"Nvidia[+]GeForce[+]GTX.+Ti\", \"0\") # Ti들을 미리 삭제\n",
    "    data['Gpu_Nvidia_GTX_M'] = data[\"Gpu_Nvidia_GTX_M\"].str.replace(r\"Nvidia[+]GeForce[+]GTX.+MX\", \"\")\n",
    "    data['Gpu_Nvidia_GTX_M'] = data[\"Gpu_Nvidia_GTX_M\"].str.replace(r\"Nvidia[+]GeForce[+]GTX[+]\", \"\")\n",
    "\n",
    "    data['Gpu_Nvidia_GTX_M'] = data[\"Gpu_Nvidia_GTX_M\"].str.replace(r\"[+].+\", \"\")\n",
    "    data['Gpu_Nvidia_GTX_M'] = data[\"Gpu_Nvidia_GTX_M\"].str.replace(r\"[^\\d+M]\", '')\n",
    "    data['Gpu_Nvidia_GTX_M1'] = data['Gpu_Nvidia_GTX_M'].str.split('M')\n",
    "\n",
    "    for i in range(len(data['Gpu_Nvidia_GTX_M'])):\n",
    "        if len(data['Gpu_Nvidia_GTX_M'].str.split('M')[i]) == 2:\n",
    "            data['Gpu_Nvidia_GTX_M1'][i] = data['Gpu_Nvidia_GTX_M'].str.split('M')[i][0]\n",
    "\n",
    "    data['Gpu_Nvidia_GTX_M'] = data['Gpu_Nvidia_GTX_M1'].str.replace(r\"[.+]\", '')\n",
    "    data['Gpu_Nvidia_GTX_M'] = data['Gpu_Nvidia_GTX_M'].replace(r'^\\s*$', np.nan, regex=True)\n",
    "    data['Gpu_Nvidia_GTX_M'] = data['Gpu_Nvidia_GTX_M'].fillna(0)\n",
    "    data['Gpu_Nvidia_GTX_M'] = data['Gpu_Nvidia_GTX_M'].astype(int)\n",
    "    \n",
    "    # Nvidia GeForce GTX_MX\n",
    "    # Ti들을 미리 삭제\n",
    "    data['Gpu_Nvidia_GTX_MX'] = data[\"Gpu\"].str.replace(r\"Nvidia[+]GeForce[+]GTX.+Ti\", \"0\") # Ti들을 미리 삭제\n",
    "    data['Gpu_Nvidia_GTX_MX'] = data[\"Gpu_Nvidia_GTX_MX\"].str.replace(r\"Nvidia[+]GeForce[+]GTX[+]\", \"\")\n",
    "\n",
    "    data['Gpu_Nvidia_GTX_MX'] = data[\"Gpu_Nvidia_GTX_MX\"].str.replace(r\"[+].+\", \"\")\n",
    "    data['Gpu_Nvidia_GTX_MX'] = data[\"Gpu_Nvidia_GTX_MX\"].str.replace(r\"[^\\d+MX]\", '')\n",
    "    data['Gpu_Nvidia_GTX_MX1'] = data['Gpu_Nvidia_GTX_MX'].str.split('MX')\n",
    "\n",
    "    for i in range(len(data['Gpu_Nvidia_GTX_MX'])):\n",
    "        if len(data['Gpu_Nvidia_GTX_MX'].str.split('MX')[i]) == 2:\n",
    "            data['Gpu_Nvidia_GTX_MX1'][i] = data['Gpu_Nvidia_GTX_MX'].str.split('M')[i][0]\n",
    "\n",
    "    data['Gpu_Nvidia_GTX_MX'] = data['Gpu_Nvidia_GTX_MX1'].str.replace(r\"[.+]\", '')\n",
    "    data['Gpu_Nvidia_GTX_MX'] = data['Gpu_Nvidia_GTX_MX'].replace(r'^\\s*$', np.nan, regex=True)\n",
    "    data['Gpu_Nvidia_GTX_MX'] = data['Gpu_Nvidia_GTX_MX'].fillna(0)\n",
    "    data['Gpu_Nvidia_GTX_MX'] = data['Gpu_Nvidia_GTX_MX'].astype(int)\n",
    "    \n",
    "    # Nvidia GeForce GTX\n",
    "    # Ti들을 미리 삭제\n",
    "    data['Gpu_Nvidia_GTX'] = data[\"Gpu\"].str.replace(r\"Nvidia[+]GeForce[+]GTX.+Ti\", \"0\").str.replace(r\"Nvidia[+]GeForce[+]GTX.+MX?\", \"\").str.replace(r\"Nvidia[+]GeForce[+]GTX[+]?\", \"\").str.replace(r\"<.+>\", \"\")\n",
    "    # Nvidia GTX 980 SLI drop 하긴 아까운 데이터라 그냥 이렇게 처리\n",
    "    data['Gpu_Nvidia_GTX'] = data[\"Gpu_Nvidia_GTX\"].str.replace(r\"Nvidia[+]GTX[+]\", \"\").str.replace(r\"[+].+\", \"\").str.replace(r\"\\D+\", \"\").replace(r'^\\s*$', np.nan, regex=True).fillna(0).astype(int)\n",
    "    \n",
    "    # Nvidia GeForce GT\n",
    "    #GTX 들을 미리 삭제\n",
    "    data['Gpu_Nvidia_GT'] = data[\"Gpu\"].str.replace(r\"Nvidia[+]GeForce[+]GTX.+\", \"\").str.replace(r\"Nvidia[+]GeForce[+]GT[+]\", \"\").str.replace(r\"[+].+\", \"\").str.replace(r\"\\D+\", \"\").replace(r'^\\s*$', np.nan, regex=True).fillna(0).astype(int)\n",
    "    \n",
    "    # Nvidia Quadro\n",
    "    data['Gpu_Nvidia_Q'] = data[\"Gpu\"].str.replace(r\"Nvidia[+]Quadro[+]\", \"\").str.replace(r\"[+].+\", \"\").str.replace(r\"\\D+\", \"\").replace(r'^\\s*$', np.nan, regex=True).fillna(0).astype(int)\n",
    "    \n",
    "    # Nvidia GeForce(M, MX, default)구분없이\n",
    "    data['Gpu_Nvidia_MX'] = data[\"Gpu\"].str.replace(r\"Nvidia[+]GeForce[+]\", \"\").str.replace(r\"GT.+\", \"\").str.replace(r\"[+].+\", \"\").str.replace(r\"\\D+\", \"\").replace(r'^\\s*$', np.nan, regex=True).fillna(0).astype(int)\n",
    "    \n",
    "    # AMD Radeon R_Series\n",
    "    data['Gpu_AMD_R'] = data[\"Gpu\"].str.replace(r\"AMD[+]Radeon[+]R\", \"\").str.replace(r\"AMD[+]FirePro.+\", \"\").str.replace(r\"Intel.+\", \"\").str.replace(r\"Nvidia.+\", \"\").str.replace(r\"[+]M\", \".\").str.replace(r\"X\", \"10\").str.replace(r\"[+]\", \".\").str.replace(r\"AMD.Radeon.+\", \"\").str.replace(r\"Graphics\", \"\").str.replace(r\"AMD.R\", \"\").replace(r'^\\s*$', np.nan, regex=True).fillna(0).astype(float)\n",
    "    \n",
    "    # AMD FirePro\n",
    "    data['Gpu_AMD_FP'] = data[\"Gpu\"].str.replace(r\"AMD[+]FirePro[+]\", \"\").str.replace(r\"[+].+\", \"\").str.replace(r\"\\D+\", \"\").replace(r'^\\s*$', np.nan, regex=True).fillna(0).astype(int)\n",
    "    \n",
    "    # AMD Pro\n",
    "    data['Gpu_AMD_Pro'] = data[\"Gpu\"].str.replace(r\"AMD[+]Radeon[+]Pro[+]\", \"\").str.replace(r\"[+].+\", \"\").str.replace(r\"\\D+\", \"\").replace(r'^\\s*$', np.nan, regex=True).fillna(0).astype(int)\n",
    "    \n",
    "    # AMD Radeon 이후에 숫자\n",
    "    data['Gpu_AMD_NUM'] = data[\"Gpu\"].str.replace(r\"AMD[+]Radeon[+]R.+\", \"\").str.replace(r\"AMD[+]Radeon[+]Pro.+\", \"\").str.replace(r\"AMD[+]Radeon[+]\", \"\").str.replace(r\"AMD[+]FirePro.+\", \"\").str.replace(r\"Intel.+\", \"\").str.replace(r\"Nvidia.+\", \"\").str.replace(r\"\\D+\", \"\").replace(r'^\\s*$', np.nan, regex=True).fillna(0).astype(int)\n",
    "\n",
    "    data = data.drop(['Gpu_Nvidia_GTX_M1','Gpu_Nvidia_GTX_MX1'],axis=1)\n",
    "    \n",
    "    return data"
   ]
  },
  {
   "cell_type": "code",
   "execution_count": 26,
   "id": "legislative-computer",
   "metadata": {},
   "outputs": [],
   "source": [
    "features = GPU_transform(features)"
   ]
  },
  {
   "cell_type": "markdown",
   "id": "asian-nothing",
   "metadata": {},
   "source": [
    "# ScreenResolution"
   ]
  },
  {
   "cell_type": "code",
   "execution_count": 27,
   "id": "controversial-facial",
   "metadata": {},
   "outputs": [],
   "source": [
    "def SR_transform(data):\n",
    "    \n",
    "    data['SR_4K'] = data['ScreenResolution'].str.findall('.*4K Ultra HD.*')\n",
    "    data['SR_4K'] = data['SR_4K'].explode('SR_4K').str.replace(r'.+', '1').replace(np.nan, 0, regex=True).astype(int)\n",
    "\n",
    "    data['SR_Touch'] = data['ScreenResolution'].str.findall('.*Touchscreen.*')\n",
    "    data['SR_Touch'] = data['SR_Touch'].explode('SR_Touch').str.replace(r'.+', '1').replace(np.nan, 0, regex=True).astype(int)\n",
    "\n",
    "    data['SR_QuadHD'] = data['ScreenResolution'].str.findall('.*Quad HD.*')\n",
    "    data['SR_QuadHD'] = data['SR_QuadHD'].explode('SR_QuadHD').str.replace(r'.+', '1').replace(np.nan, 0, regex=True).astype(int)\n",
    "\n",
    "    data['SR_Retina'] = data['ScreenResolution'].str.findall('.*Retina Display.*')\n",
    "    data['SR_Retina'] = data['SR_Retina'].explode('SR_Retina').str.replace(r'.+', '1').replace(np.nan, 0, regex=True).astype(int)\n",
    "\n",
    "    data['SR_FullHD'] = data['ScreenResolution'].str.findall('.*Full HD.*')\n",
    "    data['SR_FullHD'] = data['SR_FullHD'].explode('SR_FullHD').str.replace(r'.+', '1').replace(np.nan, 0, regex=True).astype(int)\n",
    "    \n",
    "    return data"
   ]
  },
  {
   "cell_type": "code",
   "execution_count": 28,
   "id": "broken-context",
   "metadata": {},
   "outputs": [],
   "source": [
    "features = SR_transform(features)"
   ]
  },
  {
   "cell_type": "code",
   "execution_count": 29,
   "id": "rational-glossary",
   "metadata": {},
   "outputs": [],
   "source": [
    "def Memory_transform(data):\n",
    "    \n",
    "    data['Memory'] = data['Memory'].astype(str).replace('\\.0', '', regex=True) \n",
    "    data[\"Memory\"] = data[\"Memory\"].str.replace('GB', '')\n",
    "    data[\"Memory\"] = data[\"Memory\"].str.replace('TB', '000')\n",
    "    SSD_HDD_FS_Hy = data[\"Memory\"].str.split(\"+\", n = 1, expand = True)\n",
    "    data[\"first\"]= SSD_HDD_FS_Hy[0]\n",
    "    data[\"first\"]= data[\"first\"].str.strip()\n",
    "    data[\"second\"]= SSD_HDD_FS_Hy[1]\n",
    "    data[\"HDD1\"] = data[\"first\"].apply(lambda data: 1 if \"HDD\" in data else 0)\n",
    "    data[\"SSD1\"] = data[\"first\"].apply(lambda data: 1 if \"SSD\" in data else 0)\n",
    "    data[\"Hybrid1\"] = data[\"first\"].apply(lambda data: 1 if \"Hybrid\" in data else 0)\n",
    "    data[\"Flash_Storage1\"] = data[\"first\"].apply(lambda data: 1 if \"Flash Storage\" in data else 0)\n",
    "    data['first'] = data['first'].str.replace(r'\\D', '')\n",
    "    data[\"second\"].fillna(\"0\", inplace = True)\n",
    "    data[\"HDD2\"] = data[\"second\"].apply(lambda data: 1 if \"HDD\" in data else 0)\n",
    "    data[\"SSD2\"] = data[\"second\"].apply(lambda data: 1 if \"SSD\" in data else 0)\n",
    "    data[\"Hybrid2\"] = data[\"second\"].apply(lambda data: 1 if \"Hybrid\" in data else 0)\n",
    "    data[\"Flash_Storage2\"] = data[\"second\"].apply(lambda data: 1 if \"Flash Storage\" in data else 0)\n",
    "    data['second'] = data['second'].str.replace(r'\\D', '')\n",
    "    data[\"first\"] = data[\"first\"].astype(int)\n",
    "    data[\"second\"] = data[\"second\"].astype(int)\n",
    "    data['HDD'] = data[\"first\"]*data['HDD1'] + data[\"second\"]*data['HDD2']\n",
    "    data['SSD'] = data[\"first\"]*data['SSD1'] + data[\"second\"]*data['SSD2']\n",
    "    data['Hybrid'] = data[\"first\"]*data['Hybrid1'] + data[\"second\"]*data['Hybrid2']\n",
    "    data['Flash_Storage'] = data[\"first\"]*data['Flash_Storage1'] + data[\"second\"]*data['Flash_Storage2']\n",
    "    \n",
    "    return data"
   ]
  },
  {
   "cell_type": "code",
   "execution_count": 30,
   "id": "abstract-split",
   "metadata": {},
   "outputs": [],
   "source": [
    "features = Memory_transform(features)"
   ]
  },
  {
   "cell_type": "code",
   "execution_count": 31,
   "id": "convinced-professional",
   "metadata": {},
   "outputs": [],
   "source": [
    "def SR_XY_transform(data):\n",
    "    \n",
    "    SR = data[\"ScreenResolution\"].str.split(\"x\", n = 1, expand = True)\n",
    "    data[\"xres\"]= SR[0]\n",
    "    data[\"yres\"]= SR[1]\n",
    "    data[\"xres\"] = data['xres'].str.replace(r'\\D+.\\d?\\D+', '').astype(int)\n",
    "    data[\"yres\"] = data[\"yres\"].astype(int)\n",
    "    data[\"ScreenResolution\"]=(data[\"xres\"]*data[\"yres\"]).astype(int)\n",
    "    \n",
    "    return data"
   ]
  },
  {
   "cell_type": "code",
   "execution_count": 32,
   "id": "respective-difficulty",
   "metadata": {},
   "outputs": [],
   "source": [
    "features = SR_XY_transform(features)"
   ]
  },
  {
   "cell_type": "code",
   "execution_count": 33,
   "id": "duplicate-planning",
   "metadata": {},
   "outputs": [],
   "source": [
    "def Ram_transform(data):\n",
    "    \n",
    "    data[\"Ram\"] = data[\"Ram\"].str.replace('GB', '') ## remove 'GB'\n",
    "    data[\"Ram\"] = data[\"Ram\"].astype(int)\n",
    "    \n",
    "    return data"
   ]
  },
  {
   "cell_type": "code",
   "execution_count": 34,
   "id": "mineral-representative",
   "metadata": {},
   "outputs": [],
   "source": [
    "dtrain = Ram_transform(dtrain)\n",
    "features = Ram_transform(features)"
   ]
  },
  {
   "cell_type": "code",
   "execution_count": 35,
   "id": "fossil-basin",
   "metadata": {},
   "outputs": [],
   "source": [
    "def Weight_transform(data):\n",
    "    \n",
    "    data[\"Weight\"] = data[\"Weight\"].str.replace('kg', '') ## remove 'kg'\n",
    "    data[\"Weight\"] = data[\"Weight\"].astype(float)\n",
    "    \n",
    "    return data"
   ]
  },
  {
   "cell_type": "code",
   "execution_count": 36,
   "id": "sensitive-measure",
   "metadata": {},
   "outputs": [],
   "source": [
    "features = Weight_transform(features)"
   ]
  },
  {
   "cell_type": "markdown",
   "id": "infinite-series",
   "metadata": {},
   "source": [
    "# Weight Skewed"
   ]
  },
  {
   "cell_type": "code",
   "execution_count": 37,
   "id": "early-asian",
   "metadata": {},
   "outputs": [
    {
     "data": {
      "image/png": "[encoded data removed]",
      "text/plain": [
       "<Figure size 432x288 with 1 Axes>"
      ]
     },
     "metadata": {
      "needs_background": "light"
     },
     "output_type": "display_data"
    },
    {
     "data": {
      "image/png": "[encoded data removed]",
      "text/plain": [
       "<Figure size 432x288 with 1 Axes>"
      ]
     },
     "metadata": {
      "needs_background": "light"
     },
     "output_type": "display_data"
    }
   ],
   "source": [
    "from scipy.stats import norm\n",
    "from scipy import stats\n",
    "sns.distplot(features['Weight'], fit=norm);\n",
    "fig = plt.figure()\n",
    "res = stats.probplot(features['Weight'], plot=plt)"
   ]
  },
  {
   "cell_type": "code",
   "execution_count": 38,
   "id": "placed-anatomy",
   "metadata": {},
   "outputs": [
    {
     "data": {
      "image/png": "[encoded data removed]",
      "text/plain": [
       "<Figure size 432x288 with 1 Axes>"
      ]
     },
     "metadata": {
      "needs_background": "light"
     },
     "output_type": "display_data"
    },
    {
     "data": {
      "image/png": "[encoded data removed]",
      "text/plain": [
       "<Figure size 432x288 with 1 Axes>"
      ]
     },
     "metadata": {
      "needs_background": "light"
     },
     "output_type": "display_data"
    }
   ],
   "source": [
    "#data transformation\n",
    "features['Weight'] = np.log1p(features['Weight'])\n",
    "#transformed histogram and normal probability plot\n",
    "sns.distplot(features['Weight'], fit=norm);\n",
    "fig = plt.figure()\n",
    "res = stats.probplot(features['Weight'], plot=plt)"
   ]
  },
  {
   "cell_type": "code",
   "execution_count": 39,
   "id": "secret-script",
   "metadata": {},
   "outputs": [],
   "source": [
    "def Drop_transform(data):\n",
    "    \n",
    "    data = data.drop(['Company', 'Product','Cpu', 'Gpu', 'Memory','first',\n",
    "                'second','HDD1','SSD1','Hybrid1','Flash_Storage1',\n",
    "                'HDD2','SSD2','Hybrid2','Flash_Storage2'],axis=1)\n",
    "    \n",
    "    return data"
   ]
  },
  {
   "cell_type": "code",
   "execution_count": 40,
   "id": "juvenile-bacteria",
   "metadata": {},
   "outputs": [],
   "source": [
    "features = Drop_transform(features)"
   ]
  },
  {
   "cell_type": "code",
   "execution_count": 41,
   "id": "peaceful-watershed",
   "metadata": {},
   "outputs": [],
   "source": [
    "def one_hot_TypeName(data):\n",
    "    TN = pd.get_dummies(data['TypeName'])\n",
    "    return TN"
   ]
  },
  {
   "cell_type": "code",
   "execution_count": 42,
   "id": "surface-farming",
   "metadata": {},
   "outputs": [],
   "source": [
    "TN = one_hot_TypeName(features)"
   ]
  },
  {
   "cell_type": "code",
   "execution_count": 43,
   "id": "apart-civilian",
   "metadata": {},
   "outputs": [],
   "source": [
    "def one_hot_OpSys(data):\n",
    "    OS = pd.get_dummies(data['OpSys'])\n",
    "    \n",
    "    OS['Windows'] = OS['Windows 7'] + OS['Windows 10 S'] + OS['Windows 10']\n",
    "    OS = OS.drop(['Windows 7', 'Windows 10 S', 'Windows 10'], axis=1)\n",
    "    OS['MacOS'] = OS['Mac OS X']*1 + OS['macOS']*2 # macOS가 더 좋은 OS\n",
    "    OS = OS.drop(['Mac OS X', 'macOS'], axis=1)\n",
    "    return OS"
   ]
  },
  {
   "cell_type": "code",
   "execution_count": 44,
   "id": "bearing-algebra",
   "metadata": {},
   "outputs": [],
   "source": [
    "OS = one_hot_OpSys(features)"
   ]
  },
  {
   "cell_type": "code",
   "execution_count": 45,
   "id": "colonial-affair",
   "metadata": {},
   "outputs": [],
   "source": [
    "def input_dummy():\n",
    "    for i in TN.columns:\n",
    "        features[i] = TN[i]\n",
    "    for i in OS.columns:\n",
    "        features[i] = OS[i]\n",
    "\n",
    "input_dummy()"
   ]
  },
  {
   "cell_type": "code",
   "execution_count": 46,
   "id": "demographic-shepherd",
   "metadata": {},
   "outputs": [],
   "source": [
    "features = features.select_dtypes(exclude=['object'])"
   ]
  },
  {
   "cell_type": "code",
   "execution_count": 47,
   "id": "confirmed-sperm",
   "metadata": {},
   "outputs": [
    {
     "data": {
      "text/plain": [
       "((999, 56), (999,), (261, 56))"
      ]
     },
     "execution_count": 47,
     "metadata": {},
     "output_type": "execute_result"
    }
   ],
   "source": [
    "train = features.iloc[:len(train_labels), :]\n",
    "test = features.iloc[len(train_labels):, :]\n",
    "train.shape, train_labels.shape, test.shape"
   ]
  },
  {
   "cell_type": "markdown",
   "id": "musical-republic",
   "metadata": {},
   "source": [
    "# BayesianOptimizer\n",
    "With the BayesianOptimizer we will kind the ideal values for the parameters in each model"
   ]
  },
  {
   "cell_type": "code",
   "execution_count": 48,
   "id": "tamil-savannah",
   "metadata": {},
   "outputs": [],
   "source": [
    "from bayes_opt import BayesianOptimization\n",
    "import xgboost as xgb\n",
    "from xgboost import XGBRegressor, XGBRegressor\n",
    "from sklearn.model_selection import StratifiedKFold, KFold\n",
    "from sklearn.preprocessing import LabelEncoder\n",
    "from sklearn import metrics"
   ]
  },
  {
   "cell_type": "markdown",
   "id": "gorgeous-prayer",
   "metadata": {},
   "source": [
    "# Models\n",
    "Find what each parameters mean in each model by looking into the link below every model"
   ]
  },
  {
   "cell_type": "markdown",
   "id": "vanilla-theme",
   "metadata": {},
   "source": [
    "## LightGBM\n",
    "LightGBM - https://neptune.ai/blog/lightgbm-parameters-guide"
   ]
  },
  {
   "cell_type": "code",
   "execution_count": 49,
   "id": "heated-sharing",
   "metadata": {},
   "outputs": [],
   "source": [
    "from sklearn.metrics import r2_score, mean_squared_error\n",
    "\n",
    "# 탐색 대상 함수 (XGBRegressor)\n",
    "def LGBM_cv(num_leaves, learning_rate, n_estimators, max_bin,\n",
    "            bagging_fraction, bagging_freq ,bagging_seed, feature_fraction,\n",
    "            feature_fraction_seed, min_sum_hessian_in_leaf, objective='regression', silent=True):\n",
    "\n",
    "    # 모델 정의\n",
    "    model = LGBMRegressor(objective=objective,\n",
    "                          num_leaves=int(num_leaves),\n",
    "                          learning_rate=learning_rate, \n",
    "                          n_estimators=int(n_estimators),\n",
    "                          max_bin=int(max_bin), \n",
    "                          bagging_fraction=bagging_fraction,\n",
    "                          bagging_freq=int(bagging_freq), \n",
    "                          bagging_seed=int(bagging_seed),\n",
    "                          feature_fraction=feature_fraction,\n",
    "                          feature_fraction_seed=int(feature_fraction_seed),\n",
    "                          min_sum_hessian_in_leaf=int(min_sum_hessian_in_leaf)\n",
    "                          )\n",
    "\n",
    "    # metric 계산\n",
    "    rmse = np.sqrt(-cross_val_score(model, train, train_labels, scoring=\"neg_mean_squared_error\", cv=5))\n",
    "\n",
    "    \n",
    "    # 오차 최적화로 사용할 metric 반환\n",
    "    return -rmse.mean()"
   ]
  },
  {
   "cell_type": "code",
   "execution_count": null,
   "id": "domestic-occasion",
   "metadata": {},
   "outputs": [],
   "source": [
    "# 실험해보고자하는 hyperparameter 집합\n",
    "pbounds = {'num_leaves': (2, 8),\n",
    "           'learning_rate': (0.001, 0.1),\n",
    "           'n_estimators': (1000, 10000),\n",
    "           'max_bin': (100, 300),\n",
    "           'bagging_fraction': (0.6, 0.9),\n",
    "           'bagging_freq': (2, 8),\n",
    "           'bagging_seed' : (2, 10),\n",
    "           'feature_fraction' : (0.1, 0.5),\n",
    "           'feature_fraction_seed' : (0,10),\n",
    "           'min_sum_hessian_in_leaf' : (0, 15)\n",
    "           }\n",
    "\n",
    "# Bayesian optimization 객체 생성\n",
    "# f : 탐색 대상 함수, pbounds : hyperparameter 집합\n",
    "# verbose = 2 항상 출력, verbose = 1 최댓값일 때 출력, verbose = 0 출력 안함\n",
    "# random_state : Bayesian Optimization 상의 랜덤성이 존재하는 부분을 통제 \n",
    "\n",
    "bo=BayesianOptimization(f=LGBM_cv, pbounds=pbounds, verbose=2, random_state=42)\n",
    "\n",
    "# 메소드를 이용해 최대화 과정 수행\n",
    "# init_points :  초기 Random Search 갯수\n",
    "# n_iter : 반복 횟수 (몇개의 입력값-함숫값 점들을 확인할지! 많을 수록 정확한 값을 얻을 수 있다.)\n",
    "# acq : Acquisition Function들 중 Expected Improvement(EI) 를 사용\n",
    "# xi : exploration 강도 (기본값은 0.0)\n",
    "\n",
    "bo.maximize(init_points=10, n_iter=30, acq='ei', xi=0.01)\n",
    "\n",
    "# ‘iter’는 반복 회차, ‘target’은 목적 함수의 값, 나머지는 입력값을 나타냅니다. \n",
    "# 현재 회차 이전까지 조사된 함숫값들과 비교하여, 현재 회차에 최댓값이 얻어진 경우, \n",
    "# bayesian-optimization 라이브러리는 이를 자동으로 다른 색 글자로 표시하는 것을 확인할 수 있습니다\n",
    "\n",
    "print(bo.max)"
   ]
  },
  {
   "cell_type": "markdown",
   "id": "alert-wrapping",
   "metadata": {},
   "source": [
    "'target': -0.1962870930172154  \n",
    "'bagging_fraction': 0.8707536031909753,  \n",
    "'bagging_freq': 6.571345082365882,  \n",
    "'bagging_seed': 8.10986353373977,  \n",
    "'feature_fraction': 0.31652607766071617,  \n",
    "'feature_fraction_seed': 0.09061179209608361,  \n",
    "'learning_rate': 0.018167539760373164,  \n",
    "'max_bin': 124.12644829476747,  \n",
    "'min_sum_hessian_in_leaf': 0.4158478050180303,  \n",
    "'n_estimators': 5904.538209208651,  \n",
    "'num_leaves': 6.213275978388685  "
   ]
  },
  {
   "cell_type": "markdown",
   "id": "regular-thursday",
   "metadata": {},
   "source": [
    "## XGB Regressor\n",
    "https://xgboost.readthedocs.io/en/latest/parameter.html"
   ]
  },
  {
   "cell_type": "code",
   "execution_count": null,
   "id": "recognized-holmes",
   "metadata": {},
   "outputs": [],
   "source": [
    "# 탐색 대상 함수 (XGBRegressor)\n",
    "def XGB_cv(max_depth, learning_rate, n_estimators, gamma\n",
    "             ,min_child_weight, subsample\n",
    "             ,colsample_bytree, reg_alpha, reg_lambda, objective='reg:linear', silent=True, nthread=-1):\n",
    "\n",
    "    # 모델 정의\n",
    "    model = XGBRegressor(max_depth=int(max_depth),\n",
    "                           learning_rate=learning_rate,\n",
    "                           n_estimators=int(n_estimators),\n",
    "                           gamma=gamma,\n",
    "                           min_child_weight=min_child_weight,\n",
    "                           subsample=subsample,\n",
    "                           colsample_bytree=colsample_bytree,\n",
    "                           reg_alpha=reg_alpha,\n",
    "                           reg_lambda = reg_lambda,\n",
    "                           objective=objective,\n",
    "                           nthread=nthread\n",
    "                           )\n",
    "\n",
    "    # metric 계산\n",
    "    rmse = np.sqrt(-cross_val_score(model, train, train_labels, scoring=\"neg_mean_squared_error\", cv=5))\n",
    "\n",
    "    \n",
    "    # 오차 최적화로 사용할 metric 반환\n",
    "    return -rmse.mean()"
   ]
  },
  {
   "cell_type": "code",
   "execution_count": null,
   "id": "technological-immunology",
   "metadata": {},
   "outputs": [],
   "source": [
    "# 실험해보고자하는 hyperparameter 집합\n",
    "pbounds = {'max_depth': (3, 8),\n",
    "            'learning_rate': (0.001, 0.1),\n",
    "            'n_estimators': (1000, 10000),\n",
    "            'gamma': (0, 1),\n",
    "            'min_child_weight': (0, 3),\n",
    "            'subsample': (0.5, 1),\n",
    "            'colsample_bytree' : (0.2, 1),\n",
    "            'reg_alpha' : (0,5),\n",
    "            'reg_lambda' : (0,10),\n",
    "            }\n",
    "\n",
    "bo=BayesianOptimization(f=XGB_cv, pbounds=pbounds, verbose=2, random_state=42)\n",
    "\n",
    "bo.maximize(init_points=10, n_iter=30, acq='ei', xi=0.01)\n",
    "\n",
    "print(bo.max)"
   ]
  },
  {
   "cell_type": "code",
   "execution_count": null,
   "id": "competitive-medicare",
   "metadata": {},
   "outputs": [],
   "source": [
    "# {'target': -0.1935418657914999, 'params': {'colsample_bytree': 0.5152651581814524, 'gamma': 0.021071952664826532, 'learning_rate': 0.07603995749131016, 'max_depth': 6.809844347927643, 'min_child_weight': 2.761301161457484, 'n_estimators': 6136.355874258778, 'reg_alpha': 1.3188365258147017, 'reg_lambda': 1.4406194115140336, 'subsample': 0.7777929105084442}}"
   ]
  },
  {
   "cell_type": "markdown",
   "id": "surface-tension",
   "metadata": {},
   "source": [
    "## Ridge\n",
    "https://scikit-learn.org/stable/modules/generated/sklearn.linear_model.Ridge.html"
   ]
  },
  {
   "cell_type": "code",
   "execution_count": null,
   "id": "personal-kenya",
   "metadata": {},
   "outputs": [],
   "source": [
    "from sklearn.metrics import r2_score, mean_squared_error\n",
    "\n",
    "# 탐색 대상 함수 (Ridge)\n",
    "def Ridge_cv(alpha):\n",
    "\n",
    "    # 모델 정의\n",
    "    model = make_pipeline(RobustScaler(), Ridge(alpha=alpha))\n",
    "\n",
    "    # metric 계산\n",
    "    rmse = np.sqrt(-cross_val_score(model, train, train_labels, scoring=\"neg_mean_squared_error\", cv=5))\n",
    "\n",
    "    # 오차 최적화로 사용할 metric 반환\n",
    "    return -rmse.mean()"
   ]
  },
  {
   "cell_type": "code",
   "execution_count": null,
   "id": "chinese-aging",
   "metadata": {},
   "outputs": [],
   "source": [
    "# 실험해보고자하는 hyperparameter 집합\n",
    "pbounds = {'alpha': (0.001, 10)}\n",
    "\n",
    "bo=BayesianOptimization(f=Ridge_cv, pbounds=pbounds, verbose=2, random_state=42)\n",
    "bo.maximize(init_points=50, n_iter=200, acq='ei', xi=0.01)\n",
    "print(bo.max)"
   ]
  },
  {
   "cell_type": "code",
   "execution_count": null,
   "id": "falling-brunei",
   "metadata": {},
   "outputs": [],
   "source": [
    "# {'target': -0.256527177469175, 'params': {'alpha': 5.946955176449164}}"
   ]
  },
  {
   "cell_type": "markdown",
   "id": "final-grammar",
   "metadata": {},
   "source": [
    "## Lasso\n",
    "https://scikit-learn.org/stable/modules/generated/sklearn.linear_model.Lasso.html"
   ]
  },
  {
   "cell_type": "code",
   "execution_count": null,
   "id": "orange-nightlife",
   "metadata": {},
   "outputs": [],
   "source": [
    "from sklearn.metrics import r2_score, mean_squared_error\n",
    "\n",
    "# 탐색 대상 함수 (Lasso)\n",
    "def Lasso_cv(alpha):\n",
    "\n",
    "    # 모델 정의\n",
    "    model = make_pipeline(RobustScaler(), Lasso(alpha=alpha))\n",
    "\n",
    "    # metric 계산\n",
    "    rmse = np.sqrt(-cross_val_score(model, train, train_labels, scoring=\"neg_mean_squared_error\", cv=5))\n",
    "\n",
    "    # 오차 최적화로 사용할 metric 반환\n",
    "    return -rmse.mean()"
   ]
  },
  {
   "cell_type": "code",
   "execution_count": null,
   "id": "unnecessary-olive",
   "metadata": {},
   "outputs": [],
   "source": [
    "# 실험해보고자하는 hyperparameter 집합\n",
    "\n",
    "pbounds = {'alpha': (1e-15, 1)}\n",
    "\n",
    "bo=BayesianOptimization(f=Lasso_cv, pbounds=pbounds, verbose=2, random_state=42)\n",
    "bo.maximize(init_points=50, n_iter=200, acq='ei', xi=0.01)\n",
    "print(bo.max)"
   ]
  },
  {
   "cell_type": "code",
   "execution_count": null,
   "id": "noticed-planet",
   "metadata": {},
   "outputs": [],
   "source": [
    "# {'target': -0.25795912844650465, 'params': {'alpha': 0.001517607943215759}}"
   ]
  },
  {
   "cell_type": "markdown",
   "id": "sustainable-smith",
   "metadata": {},
   "source": [
    "## Elastic Net\n",
    "https://scikit-learn.org/stable/modules/generated/sklearn.linear_model.ElasticNet.html"
   ]
  },
  {
   "cell_type": "code",
   "execution_count": null,
   "id": "hazardous-adrian",
   "metadata": {},
   "outputs": [],
   "source": [
    "from sklearn.metrics import r2_score, mean_squared_error\n",
    "\n",
    "# 탐색 대상 함수 (ElasticNet)\n",
    "def ElasticNet_cv(alpha):\n",
    "\n",
    "    # 모델 정의\n",
    "    model = make_pipeline(RobustScaler(), ElasticNet(alpha=alpha))\n",
    "\n",
    "    # metric 계산\n",
    "    rmse = np.sqrt(-cross_val_score(model, train, train_labels, scoring=\"neg_mean_squared_error\", cv=5))\n",
    "\n",
    "    # 오차 최적화로 사용할 metric 반환\n",
    "    return -rmse.mean()"
   ]
  },
  {
   "cell_type": "code",
   "execution_count": null,
   "id": "sublime-member",
   "metadata": {},
   "outputs": [],
   "source": [
    "# 실험해보고자하는 hyperparameter 집합\n",
    "pbounds = {'alpha': (1e-15, 1)}\n",
    "\n",
    "bo=BayesianOptimization(f=ElasticNet_cv, pbounds=pbounds, verbose=2, random_state=42)\n",
    "bo.maximize(init_points=50, n_iter=200, acq='ei', xi=0.01)\n",
    "print(bo.max)"
   ]
  },
  {
   "cell_type": "code",
   "execution_count": null,
   "id": "unlikely-afghanistan",
   "metadata": {},
   "outputs": [],
   "source": [
    "# {'target': -0.2581453228277357, 'params': {'alpha': 0.001517607943215759}}"
   ]
  },
  {
   "cell_type": "markdown",
   "id": "decreased-sperm",
   "metadata": {},
   "source": [
    "## SVR\n",
    "https://scikit-learn.org/stable/modules/generated/sklearn.svm.SVR.html"
   ]
  },
  {
   "cell_type": "code",
   "execution_count": null,
   "id": "corporate-victory",
   "metadata": {},
   "outputs": [],
   "source": [
    "from sklearn.metrics import r2_score, mean_squared_error\n",
    "\n",
    "# 탐색 대상 함수 (Support Vector Regressor)\n",
    "def SVR_cv(C, epsilon, gamma):\n",
    "\n",
    "    # 모델 정의\n",
    "    model = make_pipeline(RobustScaler(), SVR(C=C, epsilon=epsilon, gamma=gamma))\n",
    "\n",
    "    # metric 계산\n",
    "    rmse = np.sqrt(-cross_val_score(model, train, train_labels, scoring=\"neg_mean_squared_error\", cv=5))\n",
    "\n",
    "    # 오차 최적화로 사용할 metric 반환\n",
    "    return -rmse.mean()"
   ]
  },
  {
   "cell_type": "code",
   "execution_count": null,
   "id": "urban-philippines",
   "metadata": {},
   "outputs": [],
   "source": [
    "# 실험해보고자하는 hyperparameter 집합\n",
    "pbounds = {'C': (0.1, 100),\n",
    "          'epsilon': (1e-8, 0.1),\n",
    "          'gamma': (1e-8, 0.1)}\n",
    "\n",
    "bo=BayesianOptimization(f=SVR_cv, pbounds=pbounds, verbose=2, random_state=42)\n",
    "bo.maximize(init_points=50, n_iter=200, acq='ei', xi=0.01)\n",
    "print(bo.max)"
   ]
  },
  {
   "cell_type": "code",
   "execution_count": null,
   "id": "apart-argentina",
   "metadata": {},
   "outputs": [],
   "source": [
    "# {'target': -0.282238784965877, 'params': {'C': 51.45071245282154, 'epsilon': 0.08069003322337666, 'gamma': 0.00026776335532691553}}"
   ]
  },
  {
   "cell_type": "markdown",
   "id": "serial-surveillance",
   "metadata": {},
   "source": [
    "## GBR\n",
    "https://scikit-learn.org/stable/modules/generated/sklearn.ensemble.GradientBoostingRegressor.html"
   ]
  },
  {
   "cell_type": "code",
   "execution_count": null,
   "id": "structured-inflation",
   "metadata": {},
   "outputs": [],
   "source": [
    "from sklearn.metrics import r2_score, mean_squared_error\n",
    "\n",
    "# 탐색 대상 함수 (Gradient Boosting Regressor)\n",
    "def GBR_cv(n_estimators, max_depth, min_samples_leaf, min_samples_split,learning_rate=0.001, max_features='sqrt', loss='huber'):\n",
    "\n",
    "    # 모델 정의\n",
    "    model = GradientBoostingRegressor(n_estimators=int(n_estimators),\n",
    "                                      learning_rate=learning_rate,\n",
    "                                      max_depth=int(max_depth),\n",
    "                                      max_features=max_features,\n",
    "                                      min_samples_leaf=int(min_samples_leaf),\n",
    "                                      min_samples_split=int(min_samples_split),\n",
    "                                      loss=loss\n",
    "                                      )\n",
    "\n",
    "    # metric 계산\n",
    "    rmse = np.sqrt(-cross_val_score(model, train, train_labels, scoring=\"neg_mean_squared_error\", cv=5))\n",
    "\n",
    "    # 오차 최적화로 사용할 metric 반환\n",
    "    return -rmse.mean()"
   ]
  },
  {
   "cell_type": "code",
   "execution_count": null,
   "id": "little-tourism",
   "metadata": {},
   "outputs": [],
   "source": [
    "# 실험해보고자하는 hyperparameter 집합\n",
    "\n",
    "pbounds = {'n_estimators': (1000, 10000),\n",
    "           'learning_rate': (0.001, 0.1),\n",
    "           'max_depth': (2, 8),\n",
    "           'min_samples_leaf': (5, 50),\n",
    "           'min_samples_split': (5, 50)\n",
    "           }\n",
    "\n",
    "bo=BayesianOptimization(f=GBR_cv, pbounds=pbounds, verbose=2, random_state=42)\n",
    "bo.maximize(init_points=20, n_iter=60, acq='ei', xi=0.01)\n",
    "print(bo.max)"
   ]
  },
  {
   "cell_type": "code",
   "execution_count": null,
   "id": "arbitrary-spencer",
   "metadata": {},
   "outputs": [],
   "source": [
    "# {'target': -0.19129672677560333, 'params': {'learning_rate': 0.03048107859018005, 'max_depth': 3.1715736457243766, 'min_samples_leaf': 5.5203794655256715, 'min_samples_split': 10.026607560674528, 'n_estimators': 3339.6399555719836}}"
   ]
  },
  {
   "cell_type": "markdown",
   "id": "studied-slovak",
   "metadata": {},
   "source": [
    "## Random Forest Regressor\n",
    "https://scikit-learn.org/stable/modules/generated/sklearn.ensemble.RandomForestRegressor.html"
   ]
  },
  {
   "cell_type": "code",
   "execution_count": null,
   "id": "gross-attribute",
   "metadata": {},
   "outputs": [],
   "source": [
    "from sklearn.metrics import r2_score, mean_squared_error\n",
    "\n",
    "# 탐색 대상 함수 (Gradient Boosting Regressor)\n",
    "def RF_cv(n_estimators, max_depth, min_samples_split, min_samples_leaf, max_features=None, oob_score='True'):\n",
    "\n",
    "    # 모델 정의\n",
    "    model = RandomForestRegressor(n_estimators=int(n_estimators),\n",
    "                                      max_depth=int(max_depth),\n",
    "                                      min_samples_split=int(min_samples_split),\n",
    "                                      min_samples_leaf=int(min_samples_leaf),\n",
    "                                      max_features=max_features,\n",
    "                                      oob_score=oob_score\n",
    "                                      )\n",
    "\n",
    "    # metric 계산\n",
    "    rmse = np.sqrt(-cross_val_score(model, train, train_labels, scoring=\"neg_mean_squared_error\", cv=5))\n",
    "\n",
    "    # 오차 최적화로 사용할 metric 반환\n",
    "    return -rmse.mean()"
   ]
  },
  {
   "cell_type": "code",
   "execution_count": null,
   "id": "pursuant-arkansas",
   "metadata": {},
   "outputs": [],
   "source": [
    "# 실험해보고자하는 hyperparameter 집합\n",
    "pbounds = {'n_estimators': (1000, 10000),\n",
    "           'max_depth': (2, 20),\n",
    "           'min_samples_split': (2, 20),\n",
    "           'min_samples_leaf': (2, 20)\n",
    "           }\n",
    "\n",
    "bo=BayesianOptimization(f=RF_cv, pbounds=pbounds, verbose=2, random_state=42)\n",
    "bo.maximize(init_points=10, n_iter=30, acq='ei', xi=0.01)\n",
    "print(bo.max)"
   ]
  },
  {
   "cell_type": "code",
   "execution_count": null,
   "id": "typical-remark",
   "metadata": {},
   "outputs": [],
   "source": [
    "# {'target': -0.2148827057813793, 'params': {'max_depth': 18.388999935299346, 'min_samples_leaf': 2.123934452675361, 'min_samples_split': 3.3403735145060143, 'n_estimators': 2088.674939080083}}"
   ]
  },
  {
   "cell_type": "markdown",
   "id": "serious-affect",
   "metadata": {},
   "source": [
    "## Set Models"
   ]
  },
  {
   "cell_type": "code",
   "execution_count": 50,
   "id": "brave-librarian",
   "metadata": {},
   "outputs": [],
   "source": [
    "# Setup cross validation folds\n",
    "kf = KFold(n_splits=5, random_state=42, shuffle=True)"
   ]
  },
  {
   "cell_type": "code",
   "execution_count": 51,
   "id": "quick-monte",
   "metadata": {},
   "outputs": [],
   "source": [
    "# Define error metrics\n",
    "def rmsle(y, y_pred):\n",
    "    return np.sqrt(mean_squared_error(y, y_pred))\n",
    "\n",
    "def mse(y, y_pred):\n",
    "    return np.mean(np.square(y-y_pred))\n",
    "\n",
    "def cv_rmse(model, train=train):\n",
    "    rmse = np.sqrt(-cross_val_score(model, train, train_labels, scoring=\"neg_mean_squared_error\", cv=kf))\n",
    "    return (rmse)"
   ]
  },
  {
   "cell_type": "code",
   "execution_count": 52,
   "id": "civilian-movie",
   "metadata": {},
   "outputs": [],
   "source": [
    "# Light Gradient Boosting Regressor\n",
    "lightgbm = LGBMRegressor(objective='regression', \n",
    "                       num_leaves=6,\n",
    "                       learning_rate=0.018167539760373164, \n",
    "                       n_estimators=5904,\n",
    "                       max_bin=124, \n",
    "                       bagging_fraction=0.8707536031909753,\n",
    "                       bagging_freq=6, \n",
    "                       bagging_seed=8,\n",
    "                       feature_fraction=0.31652607766071617,\n",
    "                       feature_fraction_seed=0,\n",
    "                       min_sum_hessian_in_leaf = 0,\n",
    "                       verbose=-1,\n",
    "                       random_state=42)\n",
    "\n",
    "# XGBoost Regressor\n",
    "xgboost = XGBRegressor(learning_rate=0.07603995749131016,\n",
    "                       n_estimators=6136,\n",
    "                       max_depth=6,\n",
    "                       min_child_weight=2,\n",
    "                       gamma=0.021071952664826532,\n",
    "                       subsample=0.7777929105084442,\n",
    "                       colsample_bytree=0.5152651581814524,\n",
    "                       objective='reg:linear',\n",
    "                       nthread=-1,\n",
    "                       scale_pos_weight=1,\n",
    "                       seed=27,\n",
    "                       reg_alpha=1.3188365258147017,\n",
    "                       reg_lambda=1.4406194115140336,\n",
    "                       verbosity = 0,\n",
    "                       random_state=42)\n",
    "\n",
    "# Ridge Lasso ElasticNet 3인방은 비슷하기 때문에 3 중에서 성능이 제일 좋은 것만 가져갔습니다. - Lasso\n",
    "\n",
    "# Ridge Regressor\n",
    "ridge = make_pipeline(RobustScaler(), Ridge(alpha=5.946955176449164))\n",
    "\n",
    "# Lasso Regressor\n",
    "lasso = make_pipeline(RobustScaler(), Lasso(alpha=0.001517607943215759))\n",
    "\n",
    "# Elastic Net Regressor\n",
    "elasticnet = make_pipeline(RobustScaler(), ElasticNet(alpha=0.001517607943215759))\n",
    "\n",
    "# Support Vector Regressor\n",
    "svr = make_pipeline(RobustScaler(), SVR(C= 51.45071245282154, epsilon= 0.08069003322337666, gamma=0.00026776335532691553))\n",
    "\n",
    "# Gradient Boosting Regressor\n",
    "gbr = GradientBoostingRegressor(n_estimators=3339,\n",
    "                                learning_rate=0.03048107859018005,\n",
    "                                max_depth=3,\n",
    "                                max_features='sqrt',\n",
    "                                min_samples_leaf=5,\n",
    "                                min_samples_split=10,\n",
    "                                loss='huber',\n",
    "                                random_state=42) \n",
    "\n",
    "# Random Forest Regressor\n",
    "rf = RandomForestRegressor(n_estimators=2088,\n",
    "                          max_depth=18,\n",
    "                          min_samples_split=2,\n",
    "                          min_samples_leaf=3,\n",
    "                          max_features=None,\n",
    "                          oob_score=True,\n",
    "                          random_state=42)\n",
    "\n",
    "# Stack up all the models above, optimized using xgboost\n",
    "stack_gen = StackingCVRegressor(regressors=(xgboost, lightgbm, svr, lasso, gbr, rf),\n",
    "                                meta_regressor=xgboost,\n",
    "                                use_features_in_secondary=True)"
   ]
  },
  {
   "cell_type": "markdown",
   "id": "velvet-seventh",
   "metadata": {},
   "source": [
    "# Train Models"
   ]
  },
  {
   "cell_type": "code",
   "execution_count": 53,
   "id": "hybrid-patch",
   "metadata": {},
   "outputs": [],
   "source": [
    "scores = {}"
   ]
  },
  {
   "cell_type": "code",
   "execution_count": 54,
   "id": "preliminary-venue",
   "metadata": {},
   "outputs": [
    {
     "name": "stdout",
     "output_type": "stream",
     "text": [
      "[LightGBM] [Warning] feature_fraction is set=0.31652607766071617, colsample_bytree=1.0 will be ignored. Current value: feature_fraction=0.31652607766071617\n",
      "[LightGBM] [Warning] min_sum_hessian_in_leaf is set=0, min_child_weight=0.001 will be ignored. Current value: min_sum_hessian_in_leaf=0\n",
      "[LightGBM] [Warning] bagging_fraction is set=0.8707536031909753, subsample=1.0 will be ignored. Current value: bagging_fraction=0.8707536031909753\n",
      "[LightGBM] [Warning] bagging_freq is set=6, subsample_freq=0 will be ignored. Current value: bagging_freq=6\n",
      "[LightGBM] [Warning] feature_fraction is set=0.31652607766071617, colsample_bytree=1.0 will be ignored. Current value: feature_fraction=0.31652607766071617\n",
      "[LightGBM] [Warning] min_sum_hessian_in_leaf is set=0, min_child_weight=0.001 will be ignored. Current value: min_sum_hessian_in_leaf=0\n",
      "[LightGBM] [Warning] bagging_fraction is set=0.8707536031909753, subsample=1.0 will be ignored. Current value: bagging_fraction=0.8707536031909753\n",
      "[LightGBM] [Warning] bagging_freq is set=6, subsample_freq=0 will be ignored. Current value: bagging_freq=6\n",
      "[LightGBM] [Warning] feature_fraction is set=0.31652607766071617, colsample_bytree=1.0 will be ignored. Current value: feature_fraction=0.31652607766071617\n",
      "[LightGBM] [Warning] min_sum_hessian_in_leaf is set=0, min_child_weight=0.001 will be ignored. Current value: min_sum_hessian_in_leaf=0\n",
      "[LightGBM] [Warning] bagging_fraction is set=0.8707536031909753, subsample=1.0 will be ignored. Current value: bagging_fraction=0.8707536031909753\n",
      "[LightGBM] [Warning] bagging_freq is set=6, subsample_freq=0 will be ignored. Current value: bagging_freq=6\n",
      "[LightGBM] [Warning] feature_fraction is set=0.31652607766071617, colsample_bytree=1.0 will be ignored. Current value: feature_fraction=0.31652607766071617\n",
      "[LightGBM] [Warning] min_sum_hessian_in_leaf is set=0, min_child_weight=0.001 will be ignored. Current value: min_sum_hessian_in_leaf=0\n",
      "[LightGBM] [Warning] bagging_fraction is set=0.8707536031909753, subsample=1.0 will be ignored. Current value: bagging_fraction=0.8707536031909753\n",
      "[LightGBM] [Warning] bagging_freq is set=6, subsample_freq=0 will be ignored. Current value: bagging_freq=6\n",
      "[LightGBM] [Warning] feature_fraction is set=0.31652607766071617, colsample_bytree=1.0 will be ignored. Current value: feature_fraction=0.31652607766071617\n",
      "[LightGBM] [Warning] min_sum_hessian_in_leaf is set=0, min_child_weight=0.001 will be ignored. Current value: min_sum_hessian_in_leaf=0\n",
      "[LightGBM] [Warning] bagging_fraction is set=0.8707536031909753, subsample=1.0 will be ignored. Current value: bagging_fraction=0.8707536031909753\n",
      "[LightGBM] [Warning] bagging_freq is set=6, subsample_freq=0 will be ignored. Current value: bagging_freq=6\n",
      "lightgbm: 0.2086 (0.0102)\n"
     ]
    }
   ],
   "source": [
    "score = cv_rmse(lightgbm)\n",
    "print(\"lightgbm: {:.4f} ({:.4f})\".format(score.mean(), score.std()))\n",
    "scores['lgb'] = (score.mean(), score.std())\n",
    "#lightgbm: 0.2086 (0.0102) - kf = 5"
   ]
  },
  {
   "cell_type": "code",
   "execution_count": 55,
   "id": "explicit-bullet",
   "metadata": {},
   "outputs": [
    {
     "name": "stdout",
     "output_type": "stream",
     "text": [
      "xgboost: 0.2036 (0.0088)\n"
     ]
    }
   ],
   "source": [
    "score = cv_rmse(xgboost)\n",
    "print(\"xgboost: {:.4f} ({:.4f})\".format(score.mean(), score.std()))\n",
    "scores['xgb'] = (score.mean(), score.std())\n",
    "# xgboost: 0.2036 (0.0088) - kf = 5"
   ]
  },
  {
   "cell_type": "code",
   "execution_count": 56,
   "id": "advisory-bundle",
   "metadata": {},
   "outputs": [
    {
     "name": "stdout",
     "output_type": "stream",
     "text": [
      "ridge: 0.2670 (0.0164)\n"
     ]
    }
   ],
   "source": [
    "score = cv_rmse(ridge)\n",
    "print(\"ridge: {:.4f} ({:.4f})\".format(score.mean(), score.std()))\n",
    "scores['ridge'] = (score.mean(), score.std())\n",
    "# ridge: 0.2670 (0.0164) - kf = 5"
   ]
  },
  {
   "cell_type": "code",
   "execution_count": 57,
   "id": "stable-integration",
   "metadata": {},
   "outputs": [
    {
     "name": "stdout",
     "output_type": "stream",
     "text": [
      "lasso: 0.2661 (0.0148)\n"
     ]
    }
   ],
   "source": [
    "score = cv_rmse(lasso)\n",
    "print(\"lasso: {:.4f} ({:.4f})\".format(score.mean(), score.std()))\n",
    "scores['lasso'] = (score.mean(), score.std())\n",
    "# lasso: 0.2661 (0.0148) - kf = 5"
   ]
  },
  {
   "cell_type": "code",
   "execution_count": 58,
   "id": "adapted-thread",
   "metadata": {},
   "outputs": [
    {
     "name": "stdout",
     "output_type": "stream",
     "text": [
      "elasticnet: 0.2669 (0.0157)\n"
     ]
    }
   ],
   "source": [
    "score = cv_rmse(elasticnet)\n",
    "print(\"elasticnet: {:.4f} ({:.4f})\".format(score.mean(), score.std()))\n",
    "scores['elasticnet'] = (score.mean(), score.std())\n",
    "# elasticnet: 0.2669 (0.0157) - kf = 5"
   ]
  },
  {
   "cell_type": "code",
   "execution_count": 59,
   "id": "certified-extent",
   "metadata": {},
   "outputs": [
    {
     "name": "stdout",
     "output_type": "stream",
     "text": [
      "SVR: 0.2801 (0.0095)\n"
     ]
    }
   ],
   "source": [
    "score = cv_rmse(svr)\n",
    "print(\"SVR: {:.4f} ({:.4f})\".format(score.mean(), score.std()))\n",
    "scores['svr'] = (score.mean(), score.std())\n",
    "# SVR: 0.2801 (0.0095) - kf = 5"
   ]
  },
  {
   "cell_type": "code",
   "execution_count": 60,
   "id": "electoral-dinner",
   "metadata": {},
   "outputs": [
    {
     "name": "stdout",
     "output_type": "stream",
     "text": [
      "gbr: 0.2011 (0.0082)\n"
     ]
    }
   ],
   "source": [
    "score = cv_rmse(gbr)\n",
    "print(\"gbr: {:.4f} ({:.4f})\".format(score.mean(), score.std()))\n",
    "scores['gbr'] = (score.mean(), score.std())\n",
    "# gbr: 0.2011 (0.0082) - kf = 5"
   ]
  },
  {
   "cell_type": "code",
   "execution_count": 61,
   "id": "spanish-ebony",
   "metadata": {},
   "outputs": [
    {
     "name": "stdout",
     "output_type": "stream",
     "text": [
      "rf: 0.2209 (0.0129)\n"
     ]
    }
   ],
   "source": [
    "score = cv_rmse(rf)\n",
    "print(\"rf: {:.4f} ({:.4f})\".format(score.mean(), score.std()))\n",
    "scores['rf'] = (score.mean(), score.std())\n",
    "# rf: 0.2209 (0.0129) - kf = 5"
   ]
  },
  {
   "cell_type": "markdown",
   "id": "congressional-decline",
   "metadata": {},
   "source": [
    "# Fit Models"
   ]
  },
  {
   "cell_type": "code",
   "execution_count": 62,
   "id": "informational-peeing",
   "metadata": {},
   "outputs": [
    {
     "name": "stdout",
     "output_type": "stream",
     "text": [
      "[LightGBM] [Warning] feature_fraction is set=0.31652607766071617, colsample_bytree=1.0 will be ignored. Current value: feature_fraction=0.31652607766071617\n",
      "[LightGBM] [Warning] min_sum_hessian_in_leaf is set=0, min_child_weight=0.001 will be ignored. Current value: min_sum_hessian_in_leaf=0\n",
      "[LightGBM] [Warning] bagging_fraction is set=0.8707536031909753, subsample=1.0 will be ignored. Current value: bagging_fraction=0.8707536031909753\n",
      "[LightGBM] [Warning] bagging_freq is set=6, subsample_freq=0 will be ignored. Current value: bagging_freq=6\n",
      "[LightGBM] [Warning] feature_fraction is set=0.31652607766071617, colsample_bytree=1.0 will be ignored. Current value: feature_fraction=0.31652607766071617\n",
      "[LightGBM] [Warning] min_sum_hessian_in_leaf is set=0, min_child_weight=0.001 will be ignored. Current value: min_sum_hessian_in_leaf=0\n",
      "[LightGBM] [Warning] bagging_fraction is set=0.8707536031909753, subsample=1.0 will be ignored. Current value: bagging_fraction=0.8707536031909753\n",
      "[LightGBM] [Warning] bagging_freq is set=6, subsample_freq=0 will be ignored. Current value: bagging_freq=6\n",
      "[LightGBM] [Warning] feature_fraction is set=0.31652607766071617, colsample_bytree=1.0 will be ignored. Current value: feature_fraction=0.31652607766071617\n",
      "[LightGBM] [Warning] min_sum_hessian_in_leaf is set=0, min_child_weight=0.001 will be ignored. Current value: min_sum_hessian_in_leaf=0\n",
      "[LightGBM] [Warning] bagging_fraction is set=0.8707536031909753, subsample=1.0 will be ignored. Current value: bagging_fraction=0.8707536031909753\n",
      "[LightGBM] [Warning] bagging_freq is set=6, subsample_freq=0 will be ignored. Current value: bagging_freq=6\n",
      "[LightGBM] [Warning] feature_fraction is set=0.31652607766071617, colsample_bytree=1.0 will be ignored. Current value: feature_fraction=0.31652607766071617\n",
      "[LightGBM] [Warning] min_sum_hessian_in_leaf is set=0, min_child_weight=0.001 will be ignored. Current value: min_sum_hessian_in_leaf=0\n",
      "[LightGBM] [Warning] bagging_fraction is set=0.8707536031909753, subsample=1.0 will be ignored. Current value: bagging_fraction=0.8707536031909753\n",
      "[LightGBM] [Warning] bagging_freq is set=6, subsample_freq=0 will be ignored. Current value: bagging_freq=6\n",
      "[LightGBM] [Warning] feature_fraction is set=0.31652607766071617, colsample_bytree=1.0 will be ignored. Current value: feature_fraction=0.31652607766071617\n",
      "[LightGBM] [Warning] min_sum_hessian_in_leaf is set=0, min_child_weight=0.001 will be ignored. Current value: min_sum_hessian_in_leaf=0\n",
      "[LightGBM] [Warning] bagging_fraction is set=0.8707536031909753, subsample=1.0 will be ignored. Current value: bagging_fraction=0.8707536031909753\n",
      "[LightGBM] [Warning] bagging_freq is set=6, subsample_freq=0 will be ignored. Current value: bagging_freq=6\n",
      "[LightGBM] [Warning] feature_fraction is set=0.31652607766071617, colsample_bytree=1.0 will be ignored. Current value: feature_fraction=0.31652607766071617\n",
      "[LightGBM] [Warning] min_sum_hessian_in_leaf is set=0, min_child_weight=0.001 will be ignored. Current value: min_sum_hessian_in_leaf=0\n",
      "[LightGBM] [Warning] bagging_fraction is set=0.8707536031909753, subsample=1.0 will be ignored. Current value: bagging_fraction=0.8707536031909753\n",
      "[LightGBM] [Warning] bagging_freq is set=6, subsample_freq=0 will be ignored. Current value: bagging_freq=6\n",
      "complete : stack_gen\n"
     ]
    }
   ],
   "source": [
    "stack_gen_model = stack_gen.fit(np.array(train), np.array(train_labels))\n",
    "print('complete : stack_gen')"
   ]
  },
  {
   "cell_type": "code",
   "execution_count": 63,
   "id": "sharp-tribute",
   "metadata": {},
   "outputs": [
    {
     "name": "stdout",
     "output_type": "stream",
     "text": [
      "complete : lightgbm\n"
     ]
    }
   ],
   "source": [
    "lgb_model_full_data = lightgbm.fit(train, train_labels)\n",
    "print('complete : lightgbm')"
   ]
  },
  {
   "cell_type": "code",
   "execution_count": 64,
   "id": "tired-reunion",
   "metadata": {},
   "outputs": [
    {
     "name": "stdout",
     "output_type": "stream",
     "text": [
      "complete : xgboost\n"
     ]
    }
   ],
   "source": [
    "xgb_model_full_data = xgboost.fit(train, train_labels)\n",
    "print('complete : xgboost')"
   ]
  },
  {
   "cell_type": "code",
   "execution_count": 65,
   "id": "revised-calculator",
   "metadata": {},
   "outputs": [
    {
     "name": "stdout",
     "output_type": "stream",
     "text": [
      "complete : Svr\n"
     ]
    }
   ],
   "source": [
    "svr_model_full_data = svr.fit(train, train_labels)\n",
    "print('complete : Svr')"
   ]
  },
  {
   "cell_type": "code",
   "execution_count": 66,
   "id": "alone-architecture",
   "metadata": {},
   "outputs": [
    {
     "name": "stdout",
     "output_type": "stream",
     "text": [
      "complete : Lasso\n"
     ]
    }
   ],
   "source": [
    "lasso_model_full_data = lasso.fit(train, train_labels)\n",
    "print('complete : Lasso')"
   ]
  },
  {
   "cell_type": "code",
   "execution_count": 67,
   "id": "backed-liquid",
   "metadata": {},
   "outputs": [
    {
     "name": "stdout",
     "output_type": "stream",
     "text": [
      "complete : RandomForest\n"
     ]
    }
   ],
   "source": [
    "rf_model_full_data = rf.fit(train, train_labels)\n",
    "print('complete : RandomForest')"
   ]
  },
  {
   "cell_type": "code",
   "execution_count": 68,
   "id": "reliable-lying",
   "metadata": {},
   "outputs": [
    {
     "name": "stdout",
     "output_type": "stream",
     "text": [
      "complete : GradientBoosting\n"
     ]
    }
   ],
   "source": [
    "gbr_model_full_data = gbr.fit(train, train_labels)\n",
    "print('complete : GradientBoosting')"
   ]
  },
  {
   "cell_type": "markdown",
   "id": "twenty-thanks",
   "metadata": {},
   "source": [
    "# Blend Models"
   ]
  },
  {
   "cell_type": "code",
   "execution_count": 69,
   "id": "antique-veteran",
   "metadata": {},
   "outputs": [],
   "source": [
    "# to prevent overfitting\n",
    "def blended_predictions(X):\n",
    "    return ((0.15 * lgb_model_full_data.predict(X)) + \\\n",
    "            (0.15 * xgb_model_full_data.predict(X)) + \\\n",
    "            (0.05 * lasso_model_full_data.predict(X)) + \\\n",
    "            (0.05 * svr_model_full_data.predict(X)) + \\\n",
    "            (0.2 * gbr_model_full_data.predict(X)) + \\\n",
    "            (0.1 * rf_model_full_data.predict(X)) + \\\n",
    "            (0.3 * stack_gen_model.predict(np.array(X))))"
   ]
  },
  {
   "cell_type": "code",
   "execution_count": 70,
   "id": "passing-psychology",
   "metadata": {},
   "outputs": [
    {
     "name": "stdout",
     "output_type": "stream",
     "text": [
      "RMSLE score on train data:\n",
      "0.12410982013803228\n",
      "MSE score on train data:\n",
      "29478.664034850473\n",
      "RMSE score on train data:\n",
      "171.693517742664\n"
     ]
    }
   ],
   "source": [
    "# Get final precitions from the blended model\n",
    "blended_score_rmsle = rmsle(train_labels, blended_predictions(train))\n",
    "blended_score_mse = mse(np.expm1(train_labels), np.expm1(blended_predictions(train)))\n",
    "rmse = np.sqrt(blended_score_mse)\n",
    "scores['blended'] = (blended_score_rmsle, 0)\n",
    "print('RMSLE score on train data:')\n",
    "print(blended_score_rmsle)\n",
    "print('MSE score on train data:')\n",
    "print(blended_score_mse)\n",
    "print('RMSE score on train data:')\n",
    "print(rmse)\n",
    "\n",
    "# RMSLE score on train data : 0.12271917710739587\n",
    "# MSE score on train data : 29431.958419766772\n",
    "# RMSE score on train data : 171.55744932752634"
   ]
  },
  {
   "cell_type": "code",
   "execution_count": 71,
   "id": "requested-beginning",
   "metadata": {},
   "outputs": [
    {
     "name": "stdout",
     "output_type": "stream",
     "text": [
      "0.9395996413519797\n"
     ]
    }
   ],
   "source": [
    "# Let's see how accurate is our model.\n",
    "from sklearn import metrics\n",
    "\n",
    "accuracy=metrics.r2_score(np.expm1(train_labels),np.expm1(blended_predictions(train)))\n",
    "\n",
    "print(accuracy)\n",
    "# 0.9396953389011834"
   ]
  },
  {
   "cell_type": "code",
   "execution_count": 72,
   "id": "rising-gregory",
   "metadata": {
    "collapsed": true
   },
   "outputs": [
    {
     "data": {
      "image/png": "[encoded data removed]",
      "text/plain": [
       "<Figure size 1728x864 with 1 Axes>"
      ]
     },
     "metadata": {},
     "output_type": "display_data"
    }
   ],
   "source": [
    "#Plot the predictions for each model\n",
    "sns.set_style(\"white\")\n",
    "fig = plt.figure(figsize=(24, 12))\n",
    "\n",
    "ax = sns.pointplot(x=list(scores.keys()), y=[score for score, _ in scores.values()], markers=['o'], linestyles=['-'])\n",
    "for i, score in enumerate(scores.values()):\n",
    "    ax.text(i, score[0] + 0.002, '{:.6f}'.format(score[0]), horizontalalignment='left', size='large', color='black', weight='semibold')\n",
    "\n",
    "plt.ylabel('Score (RMSE)', size=20, labelpad=12.5)\n",
    "plt.xlabel('Model', size=20, labelpad=12.5)\n",
    "plt.tick_params(axis='x', labelsize=13.5)\n",
    "plt.tick_params(axis='y', labelsize=12.5)\n",
    "\n",
    "plt.title('Scores of Models', size=20)\n",
    "\n",
    "plt.show()"
   ]
  },
  {
   "cell_type": "code",
   "execution_count": 73,
   "id": "suitable-bennett",
   "metadata": {
    "collapsed": true
   },
   "outputs": [
    {
     "name": "stdout",
     "output_type": "stream",
     "text": [
      "[7.1942664  7.1192041  6.20289581 6.81589938 7.21085133 7.18629677\n",
      " 6.49779901 6.09286956 7.1973838  5.78141531 7.84072939 6.46527104\n",
      " 7.38113279 6.53241522 7.52651299 6.83423037 7.20920135 6.87955354\n",
      " 6.55735132 7.51797813 7.67337585 6.55582299 7.12282692 6.32000066\n",
      " 6.82558418 6.78997143 6.7623859  6.44409315 7.27181836 6.98122838\n",
      " 6.1411534  7.42172077 7.42614776 6.85046562 6.87940359 6.68229055\n",
      " 6.55764677 6.3259608  7.0317805  5.60587403 7.53862946 6.27857467\n",
      " 6.5642033  7.65905658 6.37180208 7.02490453 7.53198535 5.51239097\n",
      " 6.77640228 7.28004512 7.22747713 6.23523933 6.63979567 7.09506085\n",
      " 6.36954516 7.04065784 5.51239097 6.82900217 7.0502443  6.81589938\n",
      " 7.30729297 6.8258411  5.97175332 6.5671464  5.66888483 7.50891626\n",
      " 6.32012895 6.78330757 6.99053036 7.94707604 8.13305949 6.7208772\n",
      " 6.34474839 6.69879371 5.82067528 5.95495462 6.68547563 7.34989856\n",
      " 7.23862779 7.23657909 7.06409044 6.30693445 6.07915838 6.54689074\n",
      " 5.68914295 7.31312603 6.35031221 8.01481742 6.91271106 6.78574596\n",
      " 7.38002906 8.01192331 6.74313424 6.56696524 6.99994215 6.06511008\n",
      " 6.92492272 6.52920165 6.46459166 6.88779266 5.70885192 6.25692515\n",
      " 6.38478918 7.55586715 6.70932731 6.53241522 7.18072924 6.34405777\n",
      " 7.03828054 6.08559883 7.39209199 7.16014264 6.9194241  7.95852001\n",
      " 5.71655422 7.66324836 7.31934127 7.49669974 6.88931069 6.63681673\n",
      " 8.36656586 6.98084826 6.67227098 7.17485419 6.88088726 6.12209393\n",
      " 7.05742432 6.46814282 7.34139933 6.91892355 7.38203265 6.1411534\n",
      " 6.93029268 7.17910242 6.96204939 6.12162465 7.65639036 5.83298441\n",
      " 7.21155462 6.0134124  6.13299671 7.04900031 7.07499775 6.6131888\n",
      " 6.80880086 7.51718599 7.33482961 5.99040711 6.31284249 6.7754768\n",
      " 7.61240607 6.54048916 5.54256605 7.33162529 7.2135755  7.46957371\n",
      " 7.17910242 7.1256124  6.93029268 6.01405465 7.248284   6.57886244\n",
      " 6.87867067 7.28925062 7.9809805  6.89773663 7.43728821 6.55432626\n",
      " 6.48445495 6.48170925 5.96909195 7.5923881  6.88829793 7.38255105\n",
      " 6.57202454 5.7438864  5.70553855 6.52139465 7.60460759 7.14659436\n",
      " 6.2852894  6.92930311 6.50652878 6.84988601 6.54437948 6.40248417\n",
      " 6.59650227 7.33264344 7.78070375 6.52691703 6.9900261  5.94682013\n",
      " 6.82162396 6.87937705 6.81683206 6.46103293 5.55044004 6.50123443\n",
      " 6.83624037 7.31761953 6.90455232 6.62115615 6.39037641 6.6572684\n",
      " 6.79305923 6.20386658 6.81579081 7.62500163 6.55252815 6.23810512\n",
      " 6.34638894 7.25417838 7.07995235 6.6663343  5.93062418 7.03090656\n",
      " 6.97091452 7.11577337 6.96852109 6.06182872 7.60089293 7.19469524\n",
      " 7.51336033 6.78089506 6.97134833 7.38775536 6.85321929 6.16806243\n",
      " 6.92696364 6.03208539 7.50866611 7.43728821 6.77640228 7.0976445\n",
      " 7.15831356 6.74950957 6.73032324 6.58494965 7.40527522 6.55182616\n",
      " 7.25382492 7.8484032  7.63371217 7.6963809  7.53167739 5.95763102\n",
      " 6.58026438 5.90434718 7.1863862  6.49173277 5.86543393 7.53390968\n",
      " 7.24128605 6.93224383 5.65842607 7.76471816 7.15164164 7.04509636\n",
      " 8.08102576 7.50120557 7.08798104]\n"
     ]
    }
   ],
   "source": [
    "predicted_prices = blended_predictions(test)\n",
    "print(predicted_prices)"
   ]
  },
  {
   "cell_type": "code",
   "execution_count": 74,
   "id": "freelance-startup",
   "metadata": {
    "collapsed": true
   },
   "outputs": [
    {
     "data": {
      "text/plain": [
       "array([1330., 1234.,  493.,  911., 1353., 1320.,  662.,  441., 1334.,\n",
       "        323., 2541.,  641., 1604.,  686., 1855.,  928., 1350.,  971.,\n",
       "        703., 1839., 2149.,  702., 1238.,  554.,  920.,  887.,  863.,\n",
       "        627., 1438., 1075.,  463., 1670., 1678.,  943.,  971.,  797.,\n",
       "        703.,  557., 1131.,  271., 1878.,  532.,  708., 2118.,  584.,\n",
       "       1123., 1865.,  246.,  875., 1450., 1375.,  509.,  763., 1204.,\n",
       "        582., 1141.,  246.,  923., 1152.,  911., 1490.,  920.,  391.,\n",
       "        710.,  288., 1823.,  554.,  881., 1085., 2826., 3404.,  828.,\n",
       "        568.,  810.,  336.,  384.,  799., 1555., 1391., 1388., 1168.,\n",
       "        547.,  435.,  696.,  294., 1498.,  571., 3024., 1003.,  884.,\n",
       "       1602., 3015.,  847.,  710., 1095.,  429., 1016.,  683.,  641.,\n",
       "        979.,  300.,  520.,  591., 1910.,  819.,  686., 1312.,  568.,\n",
       "       1138.,  438., 1622., 1286., 1010., 2858.,  302., 2127., 1508.,\n",
       "       1801.,  980.,  761., 4299., 1074.,  789., 1305.,  972.,  454.,\n",
       "       1160.,  643., 1541., 1010., 1605.,  463., 1021., 1310., 1054.,\n",
       "        454., 2113.,  340., 1353.,  407.,  459., 1150., 1181.,  743.,\n",
       "        904., 1838., 1531.,  398.,  550.,  875., 2022.,  691.,  254.,\n",
       "       1526., 1356., 1752., 1310., 1242., 1021.,  408., 1404.,  718.,\n",
       "        970., 1463., 2923.,  989., 1697.,  701.,  653.,  652.,  390.,\n",
       "       1982.,  979., 1606.,  713.,  311.,  299.,  678., 2006., 1268.,\n",
       "        535., 1020.,  668.,  942.,  694.,  602.,  731., 1528., 2392.,\n",
       "        682., 1084.,  381.,  916.,  971.,  912.,  638.,  256.,  664.,\n",
       "        929., 1505.,  995.,  749.,  595.,  777.,  890.,  493.,  911.,\n",
       "       2047.,  700.,  510.,  569., 1413., 1186.,  784.,  375., 1130.,\n",
       "       1064., 1230., 1061.,  428., 1998., 1331., 1831.,  879., 1064.,\n",
       "       1615.,  945.,  476., 1018.,  415., 1822., 1697.,  875., 1208.,\n",
       "       1283.,  852.,  836.,  723., 1643.,  699., 1412., 2560., 2065.,\n",
       "       2199., 1865.,  385.,  719.,  365., 1320.,  658.,  351., 1869.,\n",
       "       1394., 1023.,  285., 2354., 1275., 1146., 3231., 1809., 1196.])"
      ]
     },
     "execution_count": 74,
     "metadata": {},
     "output_type": "execute_result"
    }
   ],
   "source": [
    "np.floor(np.expm1(blended_predictions(test)))"
   ]
  },
  {
   "cell_type": "code",
   "execution_count": 75,
   "id": "changed-lincoln",
   "metadata": {},
   "outputs": [],
   "source": [
    "submission = np.floor(np.expm1(blended_predictions(test)))"
   ]
  },
  {
   "cell_type": "code",
   "execution_count": 76,
   "id": "assigned-western",
   "metadata": {},
   "outputs": [],
   "source": [
    "MK = pd.DataFrame({'price': submission})"
   ]
  },
  {
   "cell_type": "code",
   "execution_count": 77,
   "id": "retained-raising",
   "metadata": {},
   "outputs": [],
   "source": [
    "MK.to_csv('Answer.csv', index=False)"
   ]
  },
  {
   "cell_type": "code",
   "execution_count": null,
   "id": "conditional-radiation",
   "metadata": {},
   "outputs": [],
   "source": []
  }
 ],
 "metadata": {
  "kernelspec": {
   "display_name": "Python 3",
   "language": "python",
   "name": "python3"
  },
  "language_info": {
   "codemirror_mode": {
    "name": "ipython",
    "version": 3
   },
   "file_extension": ".py",
   "mimetype": "text/x-python",
   "name": "python",
   "nbconvert_exporter": "python",
   "pygments_lexer": "ipython3",
   "version": "3.8.5"
  },
  "widgets": {
   "application/vnd.jupyter.widget-state+json": {
    "state": {},
    "version_major": 2,
    "version_minor": 0
   }
  }
 },
 "nbformat": 4,
 "nbformat_minor": 5
}
